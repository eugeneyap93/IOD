{
 "cells": [
  {
   "cell_type": "markdown",
   "id": "1c9ee308",
   "metadata": {},
   "source": [
    "# Fraud Detection with Synthetic Financial Dataset"
   ]
  },
  {
   "cell_type": "markdown",
   "id": "9dc5af5c",
   "metadata": {},
   "source": [
    "## Business Problem "
   ]
  },
  {
   "cell_type": "markdown",
   "id": "adbd0bf8",
   "metadata": {},
   "source": [
    "Fraud has quickly become a multi-billion dollar problem for the banking and finance industry. A report by The Association of Certified Fraud Examiners (ACFE, 2018) suggest that banks are losing up to 5% of their revenue to fraud alone. "
   ]
  },
  {
   "cell_type": "markdown",
   "id": "1392c876",
   "metadata": {},
   "source": [
    "## Data Question "
   ]
  },
  {
   "cell_type": "markdown",
   "id": "56250e0a",
   "metadata": {},
   "source": [
    "1) How can we identify fraudulent transactions using the dataset? \n",
    "\n",
    "2) Using various machine learning algorithms to find the one with the highest accuracy for fraud prediction, and more importantly can fraudulent transaction be predicted?"
   ]
  },
  {
   "cell_type": "code",
   "execution_count": 2,
   "id": "85a3827b",
   "metadata": {},
   "outputs": [],
   "source": [
    "import pandas as pd\n",
    "import numpy as np\n",
    "\n",
    "import matplotlib.pyplot as plt\n",
    "import matplotlib.lines as mlines\n",
    "\n",
    "%matplotlib inline\n",
    "import seaborn as sns\n",
    "from sklearn import metrics\n",
    "from sklearn.model_selection import train_test_split, StratifiedKFold, GridSearchCV, RandomizedSearchCV, cross_val_score\n",
    "from sklearn.metrics import classification_report, confusion_matrix, accuracy_score, roc_curve, f1_score\n",
    "from sklearn.metrics import roc_auc_score, precision_score, recall_score\n",
    "from sklearn.preprocessing import StandardScaler\n",
    "from sklearn.pipeline import Pipeline\n",
    "\n",
    "from imblearn.over_sampling import SMOTE\n",
    "from imblearn.combine import SMOTEENN\n",
    "from imblearn.pipeline import Pipeline as imbpipeline\n",
    "\n",
    "from sklearn.tree import DecisionTreeClassifier\n",
    "from sklearn.ensemble import ExtraTreesClassifier\n",
    "from sklearn.ensemble import RandomForestClassifier\n",
    "from xgboost.sklearn import XGBClassifier\n",
    "from sklearn.naive_bayes import GaussianNB\n",
    "\n",
    "from collections import Counter"
   ]
  },
  {
   "cell_type": "markdown",
   "id": "47dfdb5f",
   "metadata": {},
   "source": [
    "Data source: https://www.kaggle.com/ealaxi/paysim1"
   ]
  },
  {
   "cell_type": "code",
   "execution_count": 44,
   "id": "1c31d0a0",
   "metadata": {},
   "outputs": [],
   "source": [
    "#Load csv file as dataframe\n",
    "df = pd.read_csv('PS_20174392719_1491204439457_log.csv')"
   ]
  },
  {
   "cell_type": "markdown",
   "id": "fc9812a0",
   "metadata": {},
   "source": [
    "### Fields of Dataset "
   ]
  },
  {
   "cell_type": "markdown",
   "id": "1fc9193f",
   "metadata": {},
   "source": [
    "***\n",
    "\n",
    "step - maps a unit of time in the real world. In this case 1 step is 1 hour of time. Total steps 744 (30 days simulation).\n",
    "\n",
    "type - CASH-IN, CASH-OUT, DEBIT, PAYMENT and TRANSFER.\n",
    "\n",
    "amount -\n",
    "amount of the transaction in local currency.\n",
    "\n",
    "nameOrig - customer who started the transaction\n",
    "\n",
    "oldbalanceOrg - initial balance before the transaction\n",
    "\n",
    "newbalanceOrig - new balance after the transaction\n",
    "\n",
    "nameDest - customer who is the recipient of the transaction\n",
    "\n",
    "oldbalanceDest - initial balance recipient before the transaction. Note that there is not information for customers that start with M (Merchants).\n",
    "\n",
    "newbalanceDest - new balance recipient after the transaction. Note that there is not information for customers that start with M (Merchants).\n",
    "\n",
    "isFraud - This is the transactions made by the fraudulent agents inside the simulation. In this specific dataset the fraudulent behavior of the agents aims to profit by taking control or customers accounts and try to empty the funds by transferring to another account and then cashing out of the system.\n",
    "\n",
    "isFlaggedFraud - The business model aims to control massive transfers from one account to another and flags illegal attempts. An illegal attempt in this dataset is an attempt to transfer more than 200.000 in a single transaction.\n",
    "\n",
    "***"
   ]
  },
  {
   "cell_type": "code",
   "execution_count": 4,
   "id": "02dd9b9e",
   "metadata": {},
   "outputs": [
    {
     "data": {
      "text/html": [
       "<div>\n",
       "<style scoped>\n",
       "    .dataframe tbody tr th:only-of-type {\n",
       "        vertical-align: middle;\n",
       "    }\n",
       "\n",
       "    .dataframe tbody tr th {\n",
       "        vertical-align: top;\n",
       "    }\n",
       "\n",
       "    .dataframe thead th {\n",
       "        text-align: right;\n",
       "    }\n",
       "</style>\n",
       "<table border=\"1\" class=\"dataframe\">\n",
       "  <thead>\n",
       "    <tr style=\"text-align: right;\">\n",
       "      <th></th>\n",
       "      <th>step</th>\n",
       "      <th>type</th>\n",
       "      <th>amount</th>\n",
       "      <th>nameOrig</th>\n",
       "      <th>oldbalanceOrg</th>\n",
       "      <th>newbalanceOrig</th>\n",
       "      <th>nameDest</th>\n",
       "      <th>oldbalanceDest</th>\n",
       "      <th>newbalanceDest</th>\n",
       "      <th>isFraud</th>\n",
       "      <th>isFlaggedFraud</th>\n",
       "    </tr>\n",
       "  </thead>\n",
       "  <tbody>\n",
       "    <tr>\n",
       "      <th>0</th>\n",
       "      <td>1</td>\n",
       "      <td>PAYMENT</td>\n",
       "      <td>9839.64</td>\n",
       "      <td>C1231006815</td>\n",
       "      <td>170136.0</td>\n",
       "      <td>160296.36</td>\n",
       "      <td>M1979787155</td>\n",
       "      <td>0.0</td>\n",
       "      <td>0.0</td>\n",
       "      <td>0</td>\n",
       "      <td>0</td>\n",
       "    </tr>\n",
       "    <tr>\n",
       "      <th>1</th>\n",
       "      <td>1</td>\n",
       "      <td>PAYMENT</td>\n",
       "      <td>1864.28</td>\n",
       "      <td>C1666544295</td>\n",
       "      <td>21249.0</td>\n",
       "      <td>19384.72</td>\n",
       "      <td>M2044282225</td>\n",
       "      <td>0.0</td>\n",
       "      <td>0.0</td>\n",
       "      <td>0</td>\n",
       "      <td>0</td>\n",
       "    </tr>\n",
       "    <tr>\n",
       "      <th>2</th>\n",
       "      <td>1</td>\n",
       "      <td>TRANSFER</td>\n",
       "      <td>181.00</td>\n",
       "      <td>C1305486145</td>\n",
       "      <td>181.0</td>\n",
       "      <td>0.00</td>\n",
       "      <td>C553264065</td>\n",
       "      <td>0.0</td>\n",
       "      <td>0.0</td>\n",
       "      <td>1</td>\n",
       "      <td>0</td>\n",
       "    </tr>\n",
       "    <tr>\n",
       "      <th>3</th>\n",
       "      <td>1</td>\n",
       "      <td>CASH_OUT</td>\n",
       "      <td>181.00</td>\n",
       "      <td>C840083671</td>\n",
       "      <td>181.0</td>\n",
       "      <td>0.00</td>\n",
       "      <td>C38997010</td>\n",
       "      <td>21182.0</td>\n",
       "      <td>0.0</td>\n",
       "      <td>1</td>\n",
       "      <td>0</td>\n",
       "    </tr>\n",
       "    <tr>\n",
       "      <th>4</th>\n",
       "      <td>1</td>\n",
       "      <td>PAYMENT</td>\n",
       "      <td>11668.14</td>\n",
       "      <td>C2048537720</td>\n",
       "      <td>41554.0</td>\n",
       "      <td>29885.86</td>\n",
       "      <td>M1230701703</td>\n",
       "      <td>0.0</td>\n",
       "      <td>0.0</td>\n",
       "      <td>0</td>\n",
       "      <td>0</td>\n",
       "    </tr>\n",
       "  </tbody>\n",
       "</table>\n",
       "</div>"
      ],
      "text/plain": [
       "   step      type    amount     nameOrig  oldbalanceOrg  newbalanceOrig  \\\n",
       "0     1   PAYMENT   9839.64  C1231006815       170136.0       160296.36   \n",
       "1     1   PAYMENT   1864.28  C1666544295        21249.0        19384.72   \n",
       "2     1  TRANSFER    181.00  C1305486145          181.0            0.00   \n",
       "3     1  CASH_OUT    181.00   C840083671          181.0            0.00   \n",
       "4     1   PAYMENT  11668.14  C2048537720        41554.0        29885.86   \n",
       "\n",
       "      nameDest  oldbalanceDest  newbalanceDest  isFraud  isFlaggedFraud  \n",
       "0  M1979787155             0.0             0.0        0               0  \n",
       "1  M2044282225             0.0             0.0        0               0  \n",
       "2   C553264065             0.0             0.0        1               0  \n",
       "3    C38997010         21182.0             0.0        1               0  \n",
       "4  M1230701703             0.0             0.0        0               0  "
      ]
     },
     "execution_count": 4,
     "metadata": {},
     "output_type": "execute_result"
    }
   ],
   "source": [
    "#Check on the first five records\n",
    "df.head()"
   ]
  },
  {
   "cell_type": "code",
   "execution_count": 45,
   "id": "57fccd3e",
   "metadata": {},
   "outputs": [],
   "source": [
    "#Convert all the column names to lower case\n",
    "df.columns = df.columns.str.lower()"
   ]
  },
  {
   "cell_type": "code",
   "execution_count": 6,
   "id": "e7ae4f10",
   "metadata": {},
   "outputs": [
    {
     "data": {
      "text/html": [
       "<div>\n",
       "<style scoped>\n",
       "    .dataframe tbody tr th:only-of-type {\n",
       "        vertical-align: middle;\n",
       "    }\n",
       "\n",
       "    .dataframe tbody tr th {\n",
       "        vertical-align: top;\n",
       "    }\n",
       "\n",
       "    .dataframe thead th {\n",
       "        text-align: right;\n",
       "    }\n",
       "</style>\n",
       "<table border=\"1\" class=\"dataframe\">\n",
       "  <thead>\n",
       "    <tr style=\"text-align: right;\">\n",
       "      <th></th>\n",
       "      <th>step</th>\n",
       "      <th>type</th>\n",
       "      <th>amount</th>\n",
       "      <th>nameorig</th>\n",
       "      <th>oldbalanceorg</th>\n",
       "      <th>newbalanceorig</th>\n",
       "      <th>namedest</th>\n",
       "      <th>oldbalancedest</th>\n",
       "      <th>newbalancedest</th>\n",
       "      <th>isfraud</th>\n",
       "      <th>isflaggedfraud</th>\n",
       "    </tr>\n",
       "  </thead>\n",
       "  <tbody>\n",
       "    <tr>\n",
       "      <th>0</th>\n",
       "      <td>1</td>\n",
       "      <td>PAYMENT</td>\n",
       "      <td>9839.64</td>\n",
       "      <td>C1231006815</td>\n",
       "      <td>170136.0</td>\n",
       "      <td>160296.36</td>\n",
       "      <td>M1979787155</td>\n",
       "      <td>0.0</td>\n",
       "      <td>0.0</td>\n",
       "      <td>0</td>\n",
       "      <td>0</td>\n",
       "    </tr>\n",
       "    <tr>\n",
       "      <th>1</th>\n",
       "      <td>1</td>\n",
       "      <td>PAYMENT</td>\n",
       "      <td>1864.28</td>\n",
       "      <td>C1666544295</td>\n",
       "      <td>21249.0</td>\n",
       "      <td>19384.72</td>\n",
       "      <td>M2044282225</td>\n",
       "      <td>0.0</td>\n",
       "      <td>0.0</td>\n",
       "      <td>0</td>\n",
       "      <td>0</td>\n",
       "    </tr>\n",
       "    <tr>\n",
       "      <th>2</th>\n",
       "      <td>1</td>\n",
       "      <td>TRANSFER</td>\n",
       "      <td>181.00</td>\n",
       "      <td>C1305486145</td>\n",
       "      <td>181.0</td>\n",
       "      <td>0.00</td>\n",
       "      <td>C553264065</td>\n",
       "      <td>0.0</td>\n",
       "      <td>0.0</td>\n",
       "      <td>1</td>\n",
       "      <td>0</td>\n",
       "    </tr>\n",
       "    <tr>\n",
       "      <th>3</th>\n",
       "      <td>1</td>\n",
       "      <td>CASH_OUT</td>\n",
       "      <td>181.00</td>\n",
       "      <td>C840083671</td>\n",
       "      <td>181.0</td>\n",
       "      <td>0.00</td>\n",
       "      <td>C38997010</td>\n",
       "      <td>21182.0</td>\n",
       "      <td>0.0</td>\n",
       "      <td>1</td>\n",
       "      <td>0</td>\n",
       "    </tr>\n",
       "    <tr>\n",
       "      <th>4</th>\n",
       "      <td>1</td>\n",
       "      <td>PAYMENT</td>\n",
       "      <td>11668.14</td>\n",
       "      <td>C2048537720</td>\n",
       "      <td>41554.0</td>\n",
       "      <td>29885.86</td>\n",
       "      <td>M1230701703</td>\n",
       "      <td>0.0</td>\n",
       "      <td>0.0</td>\n",
       "      <td>0</td>\n",
       "      <td>0</td>\n",
       "    </tr>\n",
       "  </tbody>\n",
       "</table>\n",
       "</div>"
      ],
      "text/plain": [
       "   step      type    amount     nameorig  oldbalanceorg  newbalanceorig  \\\n",
       "0     1   PAYMENT   9839.64  C1231006815       170136.0       160296.36   \n",
       "1     1   PAYMENT   1864.28  C1666544295        21249.0        19384.72   \n",
       "2     1  TRANSFER    181.00  C1305486145          181.0            0.00   \n",
       "3     1  CASH_OUT    181.00   C840083671          181.0            0.00   \n",
       "4     1   PAYMENT  11668.14  C2048537720        41554.0        29885.86   \n",
       "\n",
       "      namedest  oldbalancedest  newbalancedest  isfraud  isflaggedfraud  \n",
       "0  M1979787155             0.0             0.0        0               0  \n",
       "1  M2044282225             0.0             0.0        0               0  \n",
       "2   C553264065             0.0             0.0        1               0  \n",
       "3    C38997010         21182.0             0.0        1               0  \n",
       "4  M1230701703             0.0             0.0        0               0  "
      ]
     },
     "execution_count": 6,
     "metadata": {},
     "output_type": "execute_result"
    }
   ],
   "source": [
    "#Check on the first five records after column name conversion\n",
    "df.head()"
   ]
  },
  {
   "cell_type": "markdown",
   "id": "e95eaf0e",
   "metadata": {},
   "source": [
    "**Observation:** From the first five records, we could see that the oldbalancedest and newbalancedest does not sum up to what it is supposed to be after a payment or transfer. We will explore and check on this below."
   ]
  },
  {
   "cell_type": "code",
   "execution_count": 46,
   "id": "e9e6bb65",
   "metadata": {},
   "outputs": [],
   "source": [
    "#Rename columns to make it more intuitive to understand\n",
    "df.rename(columns={'nameorig': 'name_origin'\n",
    "                 , 'oldbalanceorg': 'old_balance_origin'\n",
    "                 , 'newbalanceorig': 'new_balance_origin'\n",
    "                 , 'namedest': 'name_destination'\n",
    "                 , 'oldbalancedest': 'old_balance_destination'\n",
    "                 , 'newbalancedest': 'new_balance_destination'}, inplace = True)"
   ]
  },
  {
   "cell_type": "code",
   "execution_count": 8,
   "id": "8b3e5968",
   "metadata": {},
   "outputs": [
    {
     "name": "stdout",
     "output_type": "stream",
     "text": [
      "<class 'pandas.core.frame.DataFrame'>\n",
      "RangeIndex: 6362620 entries, 0 to 6362619\n",
      "Data columns (total 11 columns):\n",
      " #   Column                   Dtype  \n",
      "---  ------                   -----  \n",
      " 0   step                     int64  \n",
      " 1   type                     object \n",
      " 2   amount                   float64\n",
      " 3   name_origin              object \n",
      " 4   old_balance_origin       float64\n",
      " 5   new_balance_origin       float64\n",
      " 6   name_destination         object \n",
      " 7   old_balance_destination  float64\n",
      " 8   new_balance_destination  float64\n",
      " 9   isfraud                  int64  \n",
      " 10  isflaggedfraud           int64  \n",
      "dtypes: float64(5), int64(3), object(3)\n",
      "memory usage: 534.0+ MB\n"
     ]
    }
   ],
   "source": [
    "#Check on no. of entries and columns, as well as data types of columns\n",
    "df.info()"
   ]
  },
  {
   "cell_type": "code",
   "execution_count": 9,
   "id": "efea6c84",
   "metadata": {},
   "outputs": [
    {
     "data": {
      "text/plain": [
       "step                       0\n",
       "type                       0\n",
       "amount                     0\n",
       "name_origin                0\n",
       "old_balance_origin         0\n",
       "new_balance_origin         0\n",
       "name_destination           0\n",
       "old_balance_destination    0\n",
       "new_balance_destination    0\n",
       "isfraud                    0\n",
       "isflaggedfraud             0\n",
       "dtype: int64"
      ]
     },
     "execution_count": 9,
     "metadata": {},
     "output_type": "execute_result"
    }
   ],
   "source": [
    "#Check for null values in dataframe\n",
    "df.isnull().sum()"
   ]
  },
  {
   "cell_type": "code",
   "execution_count": 10,
   "id": "5800b3f6",
   "metadata": {},
   "outputs": [
    {
     "data": {
      "text/plain": [
       "0"
      ]
     },
     "execution_count": 10,
     "metadata": {},
     "output_type": "execute_result"
    }
   ],
   "source": [
    "#Check for duplicated rows\n",
    "df.duplicated().sum()"
   ]
  },
  {
   "cell_type": "code",
   "execution_count": 11,
   "id": "03598126",
   "metadata": {},
   "outputs": [
    {
     "data": {
      "text/html": [
       "<div>\n",
       "<style scoped>\n",
       "    .dataframe tbody tr th:only-of-type {\n",
       "        vertical-align: middle;\n",
       "    }\n",
       "\n",
       "    .dataframe tbody tr th {\n",
       "        vertical-align: top;\n",
       "    }\n",
       "\n",
       "    .dataframe thead th {\n",
       "        text-align: right;\n",
       "    }\n",
       "</style>\n",
       "<table border=\"1\" class=\"dataframe\">\n",
       "  <thead>\n",
       "    <tr style=\"text-align: right;\">\n",
       "      <th></th>\n",
       "      <th>step</th>\n",
       "      <th>amount</th>\n",
       "      <th>old_balance_origin</th>\n",
       "      <th>new_balance_origin</th>\n",
       "      <th>old_balance_destination</th>\n",
       "      <th>new_balance_destination</th>\n",
       "      <th>isfraud</th>\n",
       "      <th>isflaggedfraud</th>\n",
       "    </tr>\n",
       "  </thead>\n",
       "  <tbody>\n",
       "    <tr>\n",
       "      <th>count</th>\n",
       "      <td>6.362620e+06</td>\n",
       "      <td>6.362620e+06</td>\n",
       "      <td>6.362620e+06</td>\n",
       "      <td>6.362620e+06</td>\n",
       "      <td>6.362620e+06</td>\n",
       "      <td>6.362620e+06</td>\n",
       "      <td>6.362620e+06</td>\n",
       "      <td>6.362620e+06</td>\n",
       "    </tr>\n",
       "    <tr>\n",
       "      <th>mean</th>\n",
       "      <td>2.433972e+02</td>\n",
       "      <td>1.798619e+05</td>\n",
       "      <td>8.338831e+05</td>\n",
       "      <td>8.551137e+05</td>\n",
       "      <td>1.100702e+06</td>\n",
       "      <td>1.224996e+06</td>\n",
       "      <td>1.290820e-03</td>\n",
       "      <td>2.514687e-06</td>\n",
       "    </tr>\n",
       "    <tr>\n",
       "      <th>std</th>\n",
       "      <td>1.423320e+02</td>\n",
       "      <td>6.038582e+05</td>\n",
       "      <td>2.888243e+06</td>\n",
       "      <td>2.924049e+06</td>\n",
       "      <td>3.399180e+06</td>\n",
       "      <td>3.674129e+06</td>\n",
       "      <td>3.590480e-02</td>\n",
       "      <td>1.585775e-03</td>\n",
       "    </tr>\n",
       "    <tr>\n",
       "      <th>min</th>\n",
       "      <td>1.000000e+00</td>\n",
       "      <td>0.000000e+00</td>\n",
       "      <td>0.000000e+00</td>\n",
       "      <td>0.000000e+00</td>\n",
       "      <td>0.000000e+00</td>\n",
       "      <td>0.000000e+00</td>\n",
       "      <td>0.000000e+00</td>\n",
       "      <td>0.000000e+00</td>\n",
       "    </tr>\n",
       "    <tr>\n",
       "      <th>25%</th>\n",
       "      <td>1.560000e+02</td>\n",
       "      <td>1.338957e+04</td>\n",
       "      <td>0.000000e+00</td>\n",
       "      <td>0.000000e+00</td>\n",
       "      <td>0.000000e+00</td>\n",
       "      <td>0.000000e+00</td>\n",
       "      <td>0.000000e+00</td>\n",
       "      <td>0.000000e+00</td>\n",
       "    </tr>\n",
       "    <tr>\n",
       "      <th>50%</th>\n",
       "      <td>2.390000e+02</td>\n",
       "      <td>7.487194e+04</td>\n",
       "      <td>1.420800e+04</td>\n",
       "      <td>0.000000e+00</td>\n",
       "      <td>1.327057e+05</td>\n",
       "      <td>2.146614e+05</td>\n",
       "      <td>0.000000e+00</td>\n",
       "      <td>0.000000e+00</td>\n",
       "    </tr>\n",
       "    <tr>\n",
       "      <th>75%</th>\n",
       "      <td>3.350000e+02</td>\n",
       "      <td>2.087215e+05</td>\n",
       "      <td>1.073152e+05</td>\n",
       "      <td>1.442584e+05</td>\n",
       "      <td>9.430367e+05</td>\n",
       "      <td>1.111909e+06</td>\n",
       "      <td>0.000000e+00</td>\n",
       "      <td>0.000000e+00</td>\n",
       "    </tr>\n",
       "    <tr>\n",
       "      <th>max</th>\n",
       "      <td>7.430000e+02</td>\n",
       "      <td>9.244552e+07</td>\n",
       "      <td>5.958504e+07</td>\n",
       "      <td>4.958504e+07</td>\n",
       "      <td>3.560159e+08</td>\n",
       "      <td>3.561793e+08</td>\n",
       "      <td>1.000000e+00</td>\n",
       "      <td>1.000000e+00</td>\n",
       "    </tr>\n",
       "  </tbody>\n",
       "</table>\n",
       "</div>"
      ],
      "text/plain": [
       "               step        amount  old_balance_origin  new_balance_origin  \\\n",
       "count  6.362620e+06  6.362620e+06        6.362620e+06        6.362620e+06   \n",
       "mean   2.433972e+02  1.798619e+05        8.338831e+05        8.551137e+05   \n",
       "std    1.423320e+02  6.038582e+05        2.888243e+06        2.924049e+06   \n",
       "min    1.000000e+00  0.000000e+00        0.000000e+00        0.000000e+00   \n",
       "25%    1.560000e+02  1.338957e+04        0.000000e+00        0.000000e+00   \n",
       "50%    2.390000e+02  7.487194e+04        1.420800e+04        0.000000e+00   \n",
       "75%    3.350000e+02  2.087215e+05        1.073152e+05        1.442584e+05   \n",
       "max    7.430000e+02  9.244552e+07        5.958504e+07        4.958504e+07   \n",
       "\n",
       "       old_balance_destination  new_balance_destination       isfraud  \\\n",
       "count             6.362620e+06             6.362620e+06  6.362620e+06   \n",
       "mean              1.100702e+06             1.224996e+06  1.290820e-03   \n",
       "std               3.399180e+06             3.674129e+06  3.590480e-02   \n",
       "min               0.000000e+00             0.000000e+00  0.000000e+00   \n",
       "25%               0.000000e+00             0.000000e+00  0.000000e+00   \n",
       "50%               1.327057e+05             2.146614e+05  0.000000e+00   \n",
       "75%               9.430367e+05             1.111909e+06  0.000000e+00   \n",
       "max               3.560159e+08             3.561793e+08  1.000000e+00   \n",
       "\n",
       "       isflaggedfraud  \n",
       "count    6.362620e+06  \n",
       "mean     2.514687e-06  \n",
       "std      1.585775e-03  \n",
       "min      0.000000e+00  \n",
       "25%      0.000000e+00  \n",
       "50%      0.000000e+00  \n",
       "75%      0.000000e+00  \n",
       "max      1.000000e+00  "
      ]
     },
     "execution_count": 11,
     "metadata": {},
     "output_type": "execute_result"
    }
   ],
   "source": [
    "#Check the statistics of the dataset\n",
    "df.describe()"
   ]
  },
  {
   "cell_type": "code",
   "execution_count": 47,
   "id": "1943c328",
   "metadata": {},
   "outputs": [
    {
     "data": {
      "image/png": "[encoded data removed]",
      "text/plain": [
       "<Figure size 1080x1080 with 2 Axes>"
      ]
     },
     "metadata": {},
     "output_type": "display_data"
    }
   ],
   "source": [
    "#Plot correlation of fields using heatmap\n",
    "plt.figure(figsize=(15,15))\n",
    "sns.heatmap(df.corr(),cmap = \"coolwarm\", annot=True)\n",
    "plt.show()"
   ]
  },
  {
   "cell_type": "markdown",
   "id": "0f51d958",
   "metadata": {},
   "source": [
    "## Exploratory Data Analysis "
   ]
  },
  {
   "cell_type": "code",
   "execution_count": 12,
   "id": "59975497",
   "metadata": {},
   "outputs": [
    {
     "data": {
      "text/plain": [
       "0    6354407\n",
       "1       8213\n",
       "Name: isfraud, dtype: int64"
      ]
     },
     "execution_count": 12,
     "metadata": {},
     "output_type": "execute_result"
    }
   ],
   "source": [
    "#Check for the distribution of fraud count\n",
    "df.isfraud.value_counts()"
   ]
  },
  {
   "cell_type": "code",
   "execution_count": null,
   "id": "feb39619",
   "metadata": {},
   "outputs": [],
   "source": [
    "plt.figure(figsize =(10, 7))\n",
    "plt.pie(df['isfraud'])\n",
    "  \n",
    "# show plot\n",
    "plt.show()"
   ]
  },
  {
   "cell_type": "markdown",
   "id": "bb5afebb",
   "metadata": {},
   "source": [
    "Data is largely imbalanced as per expectation."
   ]
  },
  {
   "cell_type": "code",
   "execution_count": 13,
   "id": "f3606c4e",
   "metadata": {},
   "outputs": [
    {
     "data": {
      "text/plain": [
       "CASH_OUT    4116\n",
       "TRANSFER    4097\n",
       "Name: type, dtype: int64"
      ]
     },
     "execution_count": 13,
     "metadata": {},
     "output_type": "execute_result"
    }
   ],
   "source": [
    "#Check distribution of transaction type count when \"isfraud\" equals to 1\n",
    "df[df['isfraud']==1].type.value_counts()"
   ]
  },
  {
   "cell_type": "markdown",
   "id": "ba24ee02",
   "metadata": {},
   "source": [
    "Fraudulant transactions seem to be happening on two specific types of transactions, CASH_OUT and TRANSFER.\n",
    "\n",
    "In this specific dataset the fraudulent behavior of the agents aims to profit by taking control or customers accounts and try to empty the funds by **transferring** to another account and then **cashing out** of the system.\n",
    "\n",
    "**Observation:** The dataset is in line with what the fraudulent agents have done."
   ]
  },
  {
   "cell_type": "markdown",
   "id": "c8b82caa",
   "metadata": {},
   "source": [
    "### isflaggedfraud field "
   ]
  },
  {
   "cell_type": "code",
   "execution_count": 14,
   "id": "76863564",
   "metadata": {},
   "outputs": [
    {
     "data": {
      "text/plain": [
       "TRANSFER    16\n",
       "Name: type, dtype: int64"
      ]
     },
     "execution_count": 14,
     "metadata": {},
     "output_type": "execute_result"
    }
   ],
   "source": [
    "#Check the type of transaction that has \"isflaggedfraud\" flagged as 1\n",
    "df[df['isflaggedfraud']==1].type.value_counts()"
   ]
  },
  {
   "cell_type": "code",
   "execution_count": 15,
   "id": "aa1ac902",
   "metadata": {},
   "outputs": [
    {
     "data": {
      "text/plain": [
       "353874.22"
      ]
     },
     "execution_count": 15,
     "metadata": {},
     "output_type": "execute_result"
    }
   ],
   "source": [
    "#Check the minimum amount of transfer when \"isflaggedfraud\" equals to 1\n",
    "df[df['isflaggedfraud']==1].amount.min()"
   ]
  },
  {
   "cell_type": "code",
   "execution_count": 16,
   "id": "92e8e233",
   "metadata": {},
   "outputs": [
    {
     "data": {
      "text/html": [
       "<div>\n",
       "<style scoped>\n",
       "    .dataframe tbody tr th:only-of-type {\n",
       "        vertical-align: middle;\n",
       "    }\n",
       "\n",
       "    .dataframe tbody tr th {\n",
       "        vertical-align: top;\n",
       "    }\n",
       "\n",
       "    .dataframe thead th {\n",
       "        text-align: right;\n",
       "    }\n",
       "</style>\n",
       "<table border=\"1\" class=\"dataframe\">\n",
       "  <thead>\n",
       "    <tr style=\"text-align: right;\">\n",
       "      <th></th>\n",
       "      <th>step</th>\n",
       "      <th>type</th>\n",
       "      <th>amount</th>\n",
       "      <th>name_origin</th>\n",
       "      <th>old_balance_origin</th>\n",
       "      <th>new_balance_origin</th>\n",
       "      <th>name_destination</th>\n",
       "      <th>old_balance_destination</th>\n",
       "      <th>new_balance_destination</th>\n",
       "      <th>isfraud</th>\n",
       "      <th>isflaggedfraud</th>\n",
       "    </tr>\n",
       "  </thead>\n",
       "  <tbody>\n",
       "    <tr>\n",
       "      <th>969</th>\n",
       "      <td>1</td>\n",
       "      <td>TRANSFER</td>\n",
       "      <td>1277212.77</td>\n",
       "      <td>C1334405552</td>\n",
       "      <td>1277212.77</td>\n",
       "      <td>0.00</td>\n",
       "      <td>C431687661</td>\n",
       "      <td>0.0</td>\n",
       "      <td>0.0</td>\n",
       "      <td>1</td>\n",
       "      <td>0</td>\n",
       "    </tr>\n",
       "    <tr>\n",
       "      <th>2301</th>\n",
       "      <td>1</td>\n",
       "      <td>TRANSFER</td>\n",
       "      <td>235238.66</td>\n",
       "      <td>C1872047468</td>\n",
       "      <td>235238.66</td>\n",
       "      <td>0.00</td>\n",
       "      <td>C116289363</td>\n",
       "      <td>0.0</td>\n",
       "      <td>0.0</td>\n",
       "      <td>1</td>\n",
       "      <td>0</td>\n",
       "    </tr>\n",
       "    <tr>\n",
       "      <th>3059</th>\n",
       "      <td>2</td>\n",
       "      <td>TRANSFER</td>\n",
       "      <td>1096187.24</td>\n",
       "      <td>C1093223281</td>\n",
       "      <td>1096187.24</td>\n",
       "      <td>0.00</td>\n",
       "      <td>C2063275841</td>\n",
       "      <td>0.0</td>\n",
       "      <td>0.0</td>\n",
       "      <td>1</td>\n",
       "      <td>0</td>\n",
       "    </tr>\n",
       "    <tr>\n",
       "      <th>3162</th>\n",
       "      <td>2</td>\n",
       "      <td>TRANSFER</td>\n",
       "      <td>963532.14</td>\n",
       "      <td>C1440057381</td>\n",
       "      <td>963532.14</td>\n",
       "      <td>0.00</td>\n",
       "      <td>C268086000</td>\n",
       "      <td>0.0</td>\n",
       "      <td>0.0</td>\n",
       "      <td>1</td>\n",
       "      <td>0</td>\n",
       "    </tr>\n",
       "    <tr>\n",
       "      <th>4440</th>\n",
       "      <td>4</td>\n",
       "      <td>TRANSFER</td>\n",
       "      <td>10000000.00</td>\n",
       "      <td>C7162498</td>\n",
       "      <td>12930418.44</td>\n",
       "      <td>2930418.44</td>\n",
       "      <td>C945327594</td>\n",
       "      <td>0.0</td>\n",
       "      <td>0.0</td>\n",
       "      <td>1</td>\n",
       "      <td>0</td>\n",
       "    </tr>\n",
       "    <tr>\n",
       "      <th>...</th>\n",
       "      <td>...</td>\n",
       "      <td>...</td>\n",
       "      <td>...</td>\n",
       "      <td>...</td>\n",
       "      <td>...</td>\n",
       "      <td>...</td>\n",
       "      <td>...</td>\n",
       "      <td>...</td>\n",
       "      <td>...</td>\n",
       "      <td>...</td>\n",
       "      <td>...</td>\n",
       "    </tr>\n",
       "    <tr>\n",
       "      <th>6362608</th>\n",
       "      <td>742</td>\n",
       "      <td>TRANSFER</td>\n",
       "      <td>258355.42</td>\n",
       "      <td>C1226129332</td>\n",
       "      <td>258355.42</td>\n",
       "      <td>0.00</td>\n",
       "      <td>C1744173808</td>\n",
       "      <td>0.0</td>\n",
       "      <td>0.0</td>\n",
       "      <td>1</td>\n",
       "      <td>0</td>\n",
       "    </tr>\n",
       "    <tr>\n",
       "      <th>6362612</th>\n",
       "      <td>743</td>\n",
       "      <td>TRANSFER</td>\n",
       "      <td>1258818.82</td>\n",
       "      <td>C1531301470</td>\n",
       "      <td>1258818.82</td>\n",
       "      <td>0.00</td>\n",
       "      <td>C1470998563</td>\n",
       "      <td>0.0</td>\n",
       "      <td>0.0</td>\n",
       "      <td>1</td>\n",
       "      <td>0</td>\n",
       "    </tr>\n",
       "    <tr>\n",
       "      <th>6362614</th>\n",
       "      <td>743</td>\n",
       "      <td>TRANSFER</td>\n",
       "      <td>339682.13</td>\n",
       "      <td>C2013999242</td>\n",
       "      <td>339682.13</td>\n",
       "      <td>0.00</td>\n",
       "      <td>C1850423904</td>\n",
       "      <td>0.0</td>\n",
       "      <td>0.0</td>\n",
       "      <td>1</td>\n",
       "      <td>0</td>\n",
       "    </tr>\n",
       "    <tr>\n",
       "      <th>6362616</th>\n",
       "      <td>743</td>\n",
       "      <td>TRANSFER</td>\n",
       "      <td>6311409.28</td>\n",
       "      <td>C1529008245</td>\n",
       "      <td>6311409.28</td>\n",
       "      <td>0.00</td>\n",
       "      <td>C1881841831</td>\n",
       "      <td>0.0</td>\n",
       "      <td>0.0</td>\n",
       "      <td>1</td>\n",
       "      <td>0</td>\n",
       "    </tr>\n",
       "    <tr>\n",
       "      <th>6362618</th>\n",
       "      <td>743</td>\n",
       "      <td>TRANSFER</td>\n",
       "      <td>850002.52</td>\n",
       "      <td>C1685995037</td>\n",
       "      <td>850002.52</td>\n",
       "      <td>0.00</td>\n",
       "      <td>C2080388513</td>\n",
       "      <td>0.0</td>\n",
       "      <td>0.0</td>\n",
       "      <td>1</td>\n",
       "      <td>0</td>\n",
       "    </tr>\n",
       "  </tbody>\n",
       "</table>\n",
       "<p>2724 rows × 11 columns</p>\n",
       "</div>"
      ],
      "text/plain": [
       "         step      type       amount  name_origin  old_balance_origin  \\\n",
       "969         1  TRANSFER   1277212.77  C1334405552          1277212.77   \n",
       "2301        1  TRANSFER    235238.66  C1872047468           235238.66   \n",
       "3059        2  TRANSFER   1096187.24  C1093223281          1096187.24   \n",
       "3162        2  TRANSFER    963532.14  C1440057381           963532.14   \n",
       "4440        4  TRANSFER  10000000.00     C7162498         12930418.44   \n",
       "...       ...       ...          ...          ...                 ...   \n",
       "6362608   742  TRANSFER    258355.42  C1226129332           258355.42   \n",
       "6362612   743  TRANSFER   1258818.82  C1531301470          1258818.82   \n",
       "6362614   743  TRANSFER    339682.13  C2013999242           339682.13   \n",
       "6362616   743  TRANSFER   6311409.28  C1529008245          6311409.28   \n",
       "6362618   743  TRANSFER    850002.52  C1685995037           850002.52   \n",
       "\n",
       "         new_balance_origin name_destination  old_balance_destination  \\\n",
       "969                    0.00       C431687661                      0.0   \n",
       "2301                   0.00       C116289363                      0.0   \n",
       "3059                   0.00      C2063275841                      0.0   \n",
       "3162                   0.00       C268086000                      0.0   \n",
       "4440             2930418.44       C945327594                      0.0   \n",
       "...                     ...              ...                      ...   \n",
       "6362608                0.00      C1744173808                      0.0   \n",
       "6362612                0.00      C1470998563                      0.0   \n",
       "6362614                0.00      C1850423904                      0.0   \n",
       "6362616                0.00      C1881841831                      0.0   \n",
       "6362618                0.00      C2080388513                      0.0   \n",
       "\n",
       "         new_balance_destination  isfraud  isflaggedfraud  \n",
       "969                          0.0        1               0  \n",
       "2301                         0.0        1               0  \n",
       "3059                         0.0        1               0  \n",
       "3162                         0.0        1               0  \n",
       "4440                         0.0        1               0  \n",
       "...                          ...      ...             ...  \n",
       "6362608                      0.0        1               0  \n",
       "6362612                      0.0        1               0  \n",
       "6362614                      0.0        1               0  \n",
       "6362616                      0.0        1               0  \n",
       "6362618                      0.0        1               0  \n",
       "\n",
       "[2724 rows x 11 columns]"
      ]
     },
     "execution_count": 16,
     "metadata": {},
     "output_type": "execute_result"
    }
   ],
   "source": [
    "#Check if there are any records with fraudulent Transfer transaction type and amount more than 200,000 not flagged in isflaggedfraud field\n",
    "df[(df['isflaggedfraud']==0) & (df['type']=='TRANSFER') & (df['amount'] > 200000) & (df['isfraud'] == 1)]"
   ]
  },
  {
   "cell_type": "markdown",
   "id": "77c39e6c",
   "metadata": {},
   "source": [
    "**Observation:** \n",
    "isflaggedfraud field is not marked as 1 for over 2700  of fraudulent transfer transactions that are with more than 200,000 monetary value."
   ]
  },
  {
   "cell_type": "code",
   "execution_count": 17,
   "id": "3219021e",
   "metadata": {},
   "outputs": [
    {
     "data": {
      "text/html": [
       "<div>\n",
       "<style scoped>\n",
       "    .dataframe tbody tr th:only-of-type {\n",
       "        vertical-align: middle;\n",
       "    }\n",
       "\n",
       "    .dataframe tbody tr th {\n",
       "        vertical-align: top;\n",
       "    }\n",
       "\n",
       "    .dataframe thead th {\n",
       "        text-align: right;\n",
       "    }\n",
       "</style>\n",
       "<table border=\"1\" class=\"dataframe\">\n",
       "  <thead>\n",
       "    <tr style=\"text-align: right;\">\n",
       "      <th></th>\n",
       "      <th>step</th>\n",
       "      <th>type</th>\n",
       "      <th>amount</th>\n",
       "      <th>name_origin</th>\n",
       "      <th>old_balance_origin</th>\n",
       "      <th>new_balance_origin</th>\n",
       "      <th>name_destination</th>\n",
       "      <th>old_balance_destination</th>\n",
       "      <th>new_balance_destination</th>\n",
       "      <th>isfraud</th>\n",
       "      <th>isflaggedfraud</th>\n",
       "    </tr>\n",
       "  </thead>\n",
       "  <tbody>\n",
       "    <tr>\n",
       "      <th>2736446</th>\n",
       "      <td>212</td>\n",
       "      <td>TRANSFER</td>\n",
       "      <td>4953893.08</td>\n",
       "      <td>C728984460</td>\n",
       "      <td>4953893.08</td>\n",
       "      <td>4953893.08</td>\n",
       "      <td>C639921569</td>\n",
       "      <td>0.0</td>\n",
       "      <td>0.0</td>\n",
       "      <td>1</td>\n",
       "      <td>1</td>\n",
       "    </tr>\n",
       "    <tr>\n",
       "      <th>3247297</th>\n",
       "      <td>250</td>\n",
       "      <td>TRANSFER</td>\n",
       "      <td>1343002.08</td>\n",
       "      <td>C1100582606</td>\n",
       "      <td>1343002.08</td>\n",
       "      <td>1343002.08</td>\n",
       "      <td>C1147517658</td>\n",
       "      <td>0.0</td>\n",
       "      <td>0.0</td>\n",
       "      <td>1</td>\n",
       "      <td>1</td>\n",
       "    </tr>\n",
       "    <tr>\n",
       "      <th>3760288</th>\n",
       "      <td>279</td>\n",
       "      <td>TRANSFER</td>\n",
       "      <td>536624.41</td>\n",
       "      <td>C1035541766</td>\n",
       "      <td>536624.41</td>\n",
       "      <td>536624.41</td>\n",
       "      <td>C1100697970</td>\n",
       "      <td>0.0</td>\n",
       "      <td>0.0</td>\n",
       "      <td>1</td>\n",
       "      <td>1</td>\n",
       "    </tr>\n",
       "    <tr>\n",
       "      <th>5563713</th>\n",
       "      <td>387</td>\n",
       "      <td>TRANSFER</td>\n",
       "      <td>4892193.09</td>\n",
       "      <td>C908544136</td>\n",
       "      <td>4892193.09</td>\n",
       "      <td>4892193.09</td>\n",
       "      <td>C891140444</td>\n",
       "      <td>0.0</td>\n",
       "      <td>0.0</td>\n",
       "      <td>1</td>\n",
       "      <td>1</td>\n",
       "    </tr>\n",
       "    <tr>\n",
       "      <th>5996407</th>\n",
       "      <td>425</td>\n",
       "      <td>TRANSFER</td>\n",
       "      <td>10000000.00</td>\n",
       "      <td>C689608084</td>\n",
       "      <td>19585040.37</td>\n",
       "      <td>19585040.37</td>\n",
       "      <td>C1392803603</td>\n",
       "      <td>0.0</td>\n",
       "      <td>0.0</td>\n",
       "      <td>1</td>\n",
       "      <td>1</td>\n",
       "    </tr>\n",
       "    <tr>\n",
       "      <th>5996409</th>\n",
       "      <td>425</td>\n",
       "      <td>TRANSFER</td>\n",
       "      <td>9585040.37</td>\n",
       "      <td>C452586515</td>\n",
       "      <td>19585040.37</td>\n",
       "      <td>19585040.37</td>\n",
       "      <td>C1109166882</td>\n",
       "      <td>0.0</td>\n",
       "      <td>0.0</td>\n",
       "      <td>1</td>\n",
       "      <td>1</td>\n",
       "    </tr>\n",
       "    <tr>\n",
       "      <th>6168499</th>\n",
       "      <td>554</td>\n",
       "      <td>TRANSFER</td>\n",
       "      <td>3576297.10</td>\n",
       "      <td>C193696150</td>\n",
       "      <td>3576297.10</td>\n",
       "      <td>3576297.10</td>\n",
       "      <td>C484597480</td>\n",
       "      <td>0.0</td>\n",
       "      <td>0.0</td>\n",
       "      <td>1</td>\n",
       "      <td>1</td>\n",
       "    </tr>\n",
       "    <tr>\n",
       "      <th>6205439</th>\n",
       "      <td>586</td>\n",
       "      <td>TRANSFER</td>\n",
       "      <td>353874.22</td>\n",
       "      <td>C1684585475</td>\n",
       "      <td>353874.22</td>\n",
       "      <td>353874.22</td>\n",
       "      <td>C1770418982</td>\n",
       "      <td>0.0</td>\n",
       "      <td>0.0</td>\n",
       "      <td>1</td>\n",
       "      <td>1</td>\n",
       "    </tr>\n",
       "    <tr>\n",
       "      <th>6266413</th>\n",
       "      <td>617</td>\n",
       "      <td>TRANSFER</td>\n",
       "      <td>2542664.27</td>\n",
       "      <td>C786455622</td>\n",
       "      <td>2542664.27</td>\n",
       "      <td>2542664.27</td>\n",
       "      <td>C661958277</td>\n",
       "      <td>0.0</td>\n",
       "      <td>0.0</td>\n",
       "      <td>1</td>\n",
       "      <td>1</td>\n",
       "    </tr>\n",
       "    <tr>\n",
       "      <th>6281482</th>\n",
       "      <td>646</td>\n",
       "      <td>TRANSFER</td>\n",
       "      <td>10000000.00</td>\n",
       "      <td>C19004745</td>\n",
       "      <td>10399045.08</td>\n",
       "      <td>10399045.08</td>\n",
       "      <td>C1806199534</td>\n",
       "      <td>0.0</td>\n",
       "      <td>0.0</td>\n",
       "      <td>1</td>\n",
       "      <td>1</td>\n",
       "    </tr>\n",
       "    <tr>\n",
       "      <th>6281484</th>\n",
       "      <td>646</td>\n",
       "      <td>TRANSFER</td>\n",
       "      <td>399045.08</td>\n",
       "      <td>C724693370</td>\n",
       "      <td>10399045.08</td>\n",
       "      <td>10399045.08</td>\n",
       "      <td>C1909486199</td>\n",
       "      <td>0.0</td>\n",
       "      <td>0.0</td>\n",
       "      <td>1</td>\n",
       "      <td>1</td>\n",
       "    </tr>\n",
       "    <tr>\n",
       "      <th>6296014</th>\n",
       "      <td>671</td>\n",
       "      <td>TRANSFER</td>\n",
       "      <td>3441041.46</td>\n",
       "      <td>C917414431</td>\n",
       "      <td>3441041.46</td>\n",
       "      <td>3441041.46</td>\n",
       "      <td>C1082139865</td>\n",
       "      <td>0.0</td>\n",
       "      <td>0.0</td>\n",
       "      <td>1</td>\n",
       "      <td>1</td>\n",
       "    </tr>\n",
       "    <tr>\n",
       "      <th>6351225</th>\n",
       "      <td>702</td>\n",
       "      <td>TRANSFER</td>\n",
       "      <td>3171085.59</td>\n",
       "      <td>C1892216157</td>\n",
       "      <td>3171085.59</td>\n",
       "      <td>3171085.59</td>\n",
       "      <td>C1308068787</td>\n",
       "      <td>0.0</td>\n",
       "      <td>0.0</td>\n",
       "      <td>1</td>\n",
       "      <td>1</td>\n",
       "    </tr>\n",
       "    <tr>\n",
       "      <th>6362460</th>\n",
       "      <td>730</td>\n",
       "      <td>TRANSFER</td>\n",
       "      <td>10000000.00</td>\n",
       "      <td>C2140038573</td>\n",
       "      <td>17316255.05</td>\n",
       "      <td>17316255.05</td>\n",
       "      <td>C1395467927</td>\n",
       "      <td>0.0</td>\n",
       "      <td>0.0</td>\n",
       "      <td>1</td>\n",
       "      <td>1</td>\n",
       "    </tr>\n",
       "    <tr>\n",
       "      <th>6362462</th>\n",
       "      <td>730</td>\n",
       "      <td>TRANSFER</td>\n",
       "      <td>7316255.05</td>\n",
       "      <td>C1869569059</td>\n",
       "      <td>17316255.05</td>\n",
       "      <td>17316255.05</td>\n",
       "      <td>C1861208726</td>\n",
       "      <td>0.0</td>\n",
       "      <td>0.0</td>\n",
       "      <td>1</td>\n",
       "      <td>1</td>\n",
       "    </tr>\n",
       "    <tr>\n",
       "      <th>6362584</th>\n",
       "      <td>741</td>\n",
       "      <td>TRANSFER</td>\n",
       "      <td>5674547.89</td>\n",
       "      <td>C992223106</td>\n",
       "      <td>5674547.89</td>\n",
       "      <td>5674547.89</td>\n",
       "      <td>C1366804249</td>\n",
       "      <td>0.0</td>\n",
       "      <td>0.0</td>\n",
       "      <td>1</td>\n",
       "      <td>1</td>\n",
       "    </tr>\n",
       "  </tbody>\n",
       "</table>\n",
       "</div>"
      ],
      "text/plain": [
       "         step      type       amount  name_origin  old_balance_origin  \\\n",
       "2736446   212  TRANSFER   4953893.08   C728984460          4953893.08   \n",
       "3247297   250  TRANSFER   1343002.08  C1100582606          1343002.08   \n",
       "3760288   279  TRANSFER    536624.41  C1035541766           536624.41   \n",
       "5563713   387  TRANSFER   4892193.09   C908544136          4892193.09   \n",
       "5996407   425  TRANSFER  10000000.00   C689608084         19585040.37   \n",
       "5996409   425  TRANSFER   9585040.37   C452586515         19585040.37   \n",
       "6168499   554  TRANSFER   3576297.10   C193696150          3576297.10   \n",
       "6205439   586  TRANSFER    353874.22  C1684585475           353874.22   \n",
       "6266413   617  TRANSFER   2542664.27   C786455622          2542664.27   \n",
       "6281482   646  TRANSFER  10000000.00    C19004745         10399045.08   \n",
       "6281484   646  TRANSFER    399045.08   C724693370         10399045.08   \n",
       "6296014   671  TRANSFER   3441041.46   C917414431          3441041.46   \n",
       "6351225   702  TRANSFER   3171085.59  C1892216157          3171085.59   \n",
       "6362460   730  TRANSFER  10000000.00  C2140038573         17316255.05   \n",
       "6362462   730  TRANSFER   7316255.05  C1869569059         17316255.05   \n",
       "6362584   741  TRANSFER   5674547.89   C992223106          5674547.89   \n",
       "\n",
       "         new_balance_origin name_destination  old_balance_destination  \\\n",
       "2736446          4953893.08       C639921569                      0.0   \n",
       "3247297          1343002.08      C1147517658                      0.0   \n",
       "3760288           536624.41      C1100697970                      0.0   \n",
       "5563713          4892193.09       C891140444                      0.0   \n",
       "5996407         19585040.37      C1392803603                      0.0   \n",
       "5996409         19585040.37      C1109166882                      0.0   \n",
       "6168499          3576297.10       C484597480                      0.0   \n",
       "6205439           353874.22      C1770418982                      0.0   \n",
       "6266413          2542664.27       C661958277                      0.0   \n",
       "6281482         10399045.08      C1806199534                      0.0   \n",
       "6281484         10399045.08      C1909486199                      0.0   \n",
       "6296014          3441041.46      C1082139865                      0.0   \n",
       "6351225          3171085.59      C1308068787                      0.0   \n",
       "6362460         17316255.05      C1395467927                      0.0   \n",
       "6362462         17316255.05      C1861208726                      0.0   \n",
       "6362584          5674547.89      C1366804249                      0.0   \n",
       "\n",
       "         new_balance_destination  isfraud  isflaggedfraud  \n",
       "2736446                      0.0        1               1  \n",
       "3247297                      0.0        1               1  \n",
       "3760288                      0.0        1               1  \n",
       "5563713                      0.0        1               1  \n",
       "5996407                      0.0        1               1  \n",
       "5996409                      0.0        1               1  \n",
       "6168499                      0.0        1               1  \n",
       "6205439                      0.0        1               1  \n",
       "6266413                      0.0        1               1  \n",
       "6281482                      0.0        1               1  \n",
       "6281484                      0.0        1               1  \n",
       "6296014                      0.0        1               1  \n",
       "6351225                      0.0        1               1  \n",
       "6362460                      0.0        1               1  \n",
       "6362462                      0.0        1               1  \n",
       "6362584                      0.0        1               1  "
      ]
     },
     "execution_count": 17,
     "metadata": {},
     "output_type": "execute_result"
    }
   ],
   "source": [
    "#Check correctly classified cases as per column description\n",
    "df[(df['isflaggedfraud']==1) & (df['type']=='TRANSFER') & (df['amount'] > 200000) & (df['isfraud'] == 1)]"
   ]
  },
  {
   "cell_type": "markdown",
   "id": "ed4a3112",
   "metadata": {},
   "source": [
    "There are 16 transactions that are flagged correctly and 2724 transactions that are supposed to be flagged but not flagged. Since the number of correctly flagged records is relatively small, this feature will probably not be useful in our prediction of fraudulent cases. We will be dropping this feature."
   ]
  },
  {
   "cell_type": "code",
   "execution_count": 18,
   "id": "f3be850d",
   "metadata": {},
   "outputs": [],
   "source": [
    "#Drop \"isflaggedfraud\" column\n",
    "df.drop(columns = 'isflaggedfraud', inplace = True)"
   ]
  },
  {
   "cell_type": "markdown",
   "id": "85a50aab",
   "metadata": {},
   "source": [
    "### Check on relationship between origin and destination accounts"
   ]
  },
  {
   "cell_type": "markdown",
   "id": "770f9ec4",
   "metadata": {},
   "source": [
    "Taking reference from this description of the dataset: Agents aims to profit by taking control or customers accounts and try to empty the funds by **transferring** to another account and then **cashing out** of the system."
   ]
  },
  {
   "cell_type": "code",
   "execution_count": 19,
   "id": "924aeef5",
   "metadata": {},
   "outputs": [],
   "source": [
    "#Take a subset of original dataset where transfer transaction is fraudulent \n",
    "transfer_fraud = df[(df['isfraud']==1) & (df['type']=='TRANSFER')]"
   ]
  },
  {
   "cell_type": "code",
   "execution_count": 20,
   "id": "973e8ee2",
   "metadata": {},
   "outputs": [],
   "source": [
    "#Take a subset of original dataset where cash out transaction is fraudulent \n",
    "cashout_fraud = df[(df['isfraud']==1) & (df['type']=='CASH_OUT')]"
   ]
  },
  {
   "cell_type": "code",
   "execution_count": 21,
   "id": "4142216e",
   "metadata": {},
   "outputs": [
    {
     "data": {
      "text/plain": [
       "False"
      ]
     },
     "execution_count": 21,
     "metadata": {},
     "output_type": "execute_result"
    }
   ],
   "source": [
    "#Check if the destination account of the fraudulent transfer transaction is used for cash out transaction\n",
    "transfer_fraud.name_destination.isin(cashout_fraud.name_origin).any()"
   ]
  },
  {
   "cell_type": "markdown",
   "id": "de7c8d78",
   "metadata": {},
   "source": [
    "**Observation:** Since the destination account of the fraudulent transaction is not used for cash out transaction, these features will not be useful in predicting fraudulent transactions. "
   ]
  },
  {
   "cell_type": "code",
   "execution_count": 22,
   "id": "b7b38bf6",
   "metadata": {},
   "outputs": [],
   "source": [
    "#Drop \"name_origin\" and \"name_destination\" columns\n",
    "df.drop(columns = ['name_origin', 'name_destination'], inplace = True)"
   ]
  },
  {
   "cell_type": "markdown",
   "id": "48e97955",
   "metadata": {},
   "source": [
    "###  Check the distribution of step against fraudulent transaction"
   ]
  },
  {
   "cell_type": "code",
   "execution_count": 23,
   "id": "16b408c7",
   "metadata": {},
   "outputs": [
    {
     "data": {
      "image/png": "[encoded data removed]",
      "text/plain": [
       "<Figure size 864x864 with 1 Axes>"
      ]
     },
     "metadata": {
      "needs_background": "light"
     },
     "output_type": "display_data"
    }
   ],
   "source": [
    "plt.figure(figsize=(12,12))\n",
    "plt.hist(df[(df['isfraud']==1)].step, bins =30)\n",
    "plt.xlabel(\"Step\", fontsize = 14)\n",
    "plt.ylabel(\"Number of transactions\", fontsize = 14)\n",
    "plt.title(\"Distribution of fraudulent transaction\", fontsize = 20)\n",
    "plt.show()"
   ]
  },
  {
   "cell_type": "markdown",
   "id": "503710a1",
   "metadata": {},
   "source": [
    "**Observation:** The distribution of the fraudulent transactions is fairly equal distributed over time, this feature might not be a good predictor. Also, as we do not know the accurate timing of each step, we will not be able to do further analysis."
   ]
  },
  {
   "cell_type": "markdown",
   "id": "42678e43",
   "metadata": {},
   "source": [
    "### Check on account balances before and after transactions "
   ]
  },
  {
   "cell_type": "markdown",
   "id": "3be44e1f",
   "metadata": {},
   "source": [
    "Assumption is the difference between the account before and after a transaction should reflect the monetary amount being transferred, paid or cashed out."
   ]
  },
  {
   "cell_type": "code",
   "execution_count": 24,
   "id": "6e38db2c",
   "metadata": {},
   "outputs": [
    {
     "data": {
      "text/plain": [
       "85.09"
      ]
     },
     "execution_count": 24,
     "metadata": {},
     "output_type": "execute_result"
    }
   ],
   "source": [
    "#Check on account balance for origin accounts\n",
    "round((sum(df['old_balance_origin'] - df['amount'] != df['new_balance_origin'])/len(df))*100,2)"
   ]
  },
  {
   "cell_type": "markdown",
   "id": "e77664db",
   "metadata": {},
   "source": [
    "85% of the transactions have erroneous account balance in origin account"
   ]
  },
  {
   "cell_type": "code",
   "execution_count": 25,
   "id": "da87d5c7",
   "metadata": {},
   "outputs": [
    {
     "data": {
      "text/plain": [
       "74.45"
      ]
     },
     "execution_count": 25,
     "metadata": {},
     "output_type": "execute_result"
    }
   ],
   "source": [
    "#Check on account balance for destination accounts\n",
    "round((sum(df['old_balance_destination'] + df['amount'] != df['new_balance_destination'])/len(df))*100,2)"
   ]
  },
  {
   "cell_type": "markdown",
   "id": "9737a303",
   "metadata": {},
   "source": [
    "74.5% of the transactions have erroneous account balance in destination account"
   ]
  },
  {
   "cell_type": "code",
   "execution_count": 26,
   "id": "ef50ac95",
   "metadata": {},
   "outputs": [],
   "source": [
    "#Find out the total number transactions with erroneous balance on either origin or destination\n",
    "error_count = (sum(df['old_balance_origin'] - df['amount'] != df['new_balance_origin']) | \n",
    "     sum(df['old_balance_destination'] + df['amount'] != df['new_balance_destination']))"
   ]
  },
  {
   "cell_type": "code",
   "execution_count": 27,
   "id": "e7c3b454",
   "metadata": {},
   "outputs": [
    {
     "data": {
      "text/plain": [
       "93.6"
      ]
     },
     "execution_count": 27,
     "metadata": {},
     "output_type": "execute_result"
    }
   ],
   "source": [
    "#Find out percentage of transactions with erroneous balance\n",
    "round((error_count/len(df))*100,2)"
   ]
  },
  {
   "cell_type": "markdown",
   "id": "e64d76ab",
   "metadata": {},
   "source": [
    "93.6% of the transactions have erroneous account balance in either origin or destination"
   ]
  },
  {
   "cell_type": "markdown",
   "id": "0028d92f",
   "metadata": {},
   "source": [
    "Next step: Check if there is any negative value in account balances"
   ]
  },
  {
   "cell_type": "code",
   "execution_count": 28,
   "id": "00909b3b",
   "metadata": {},
   "outputs": [
    {
     "data": {
      "text/plain": [
       "0"
      ]
     },
     "execution_count": 28,
     "metadata": {},
     "output_type": "execute_result"
    }
   ],
   "source": [
    "#Check for number of negative values in \"old_balance_origin\" field\n",
    "sum(df['old_balance_origin'] < 0)"
   ]
  },
  {
   "cell_type": "code",
   "execution_count": 29,
   "id": "bc361ab8",
   "metadata": {},
   "outputs": [
    {
     "data": {
      "text/plain": [
       "0"
      ]
     },
     "execution_count": 29,
     "metadata": {},
     "output_type": "execute_result"
    }
   ],
   "source": [
    "#Check for number of negative values in \"new_balance_origin\" field\n",
    "sum(df['new_balance_origin'] < 0)"
   ]
  },
  {
   "cell_type": "code",
   "execution_count": 30,
   "id": "4aa535e7",
   "metadata": {},
   "outputs": [
    {
     "data": {
      "text/plain": [
       "0"
      ]
     },
     "execution_count": 30,
     "metadata": {},
     "output_type": "execute_result"
    }
   ],
   "source": [
    "#Check for number of negative values in \"old_balance_destination\" field\n",
    "sum(df['old_balance_destination'] < 0)"
   ]
  },
  {
   "cell_type": "code",
   "execution_count": 31,
   "id": "ec1c1982",
   "metadata": {},
   "outputs": [
    {
     "data": {
      "text/plain": [
       "0"
      ]
     },
     "execution_count": 31,
     "metadata": {},
     "output_type": "execute_result"
    }
   ],
   "source": [
    "#Check for number of negative values in \"new_balance_destination\" field\n",
    "sum(df['new_balance_destination'] < 0)"
   ]
  },
  {
   "cell_type": "markdown",
   "id": "8b5cf672",
   "metadata": {},
   "source": [
    "**Observation:** No negative balances in dataset and high percentage of the records has erroneous account balance after transactions. However, we are unable to determine the root cause of the erroneous account balance thus will not be able to update or replace the value. Would the errorneous account balance has a distinction between fraudulent and valid transactions?   "
   ]
  },
  {
   "cell_type": "code",
   "execution_count": 32,
   "id": "1f6b72be",
   "metadata": {},
   "outputs": [],
   "source": [
    "#Add a new field to df, \"balance_origin_error\"\n",
    "df['balance_origin_error'] =  df.amount + df.new_balance_origin - df.old_balance_origin "
   ]
  },
  {
   "cell_type": "code",
   "execution_count": 33,
   "id": "1e1b0a84",
   "metadata": {},
   "outputs": [
    {
     "data": {
      "text/html": [
       "<div>\n",
       "<style scoped>\n",
       "    .dataframe tbody tr th:only-of-type {\n",
       "        vertical-align: middle;\n",
       "    }\n",
       "\n",
       "    .dataframe tbody tr th {\n",
       "        vertical-align: top;\n",
       "    }\n",
       "\n",
       "    .dataframe thead th {\n",
       "        text-align: right;\n",
       "    }\n",
       "</style>\n",
       "<table border=\"1\" class=\"dataframe\">\n",
       "  <thead>\n",
       "    <tr style=\"text-align: right;\">\n",
       "      <th></th>\n",
       "      <th>step</th>\n",
       "      <th>type</th>\n",
       "      <th>amount</th>\n",
       "      <th>old_balance_origin</th>\n",
       "      <th>new_balance_origin</th>\n",
       "      <th>old_balance_destination</th>\n",
       "      <th>new_balance_destination</th>\n",
       "      <th>isfraud</th>\n",
       "      <th>balance_origin_error</th>\n",
       "    </tr>\n",
       "  </thead>\n",
       "  <tbody>\n",
       "    <tr>\n",
       "      <th>8</th>\n",
       "      <td>1</td>\n",
       "      <td>PAYMENT</td>\n",
       "      <td>4024.36</td>\n",
       "      <td>2671.0</td>\n",
       "      <td>0.0</td>\n",
       "      <td>0.0</td>\n",
       "      <td>0.00</td>\n",
       "      <td>0</td>\n",
       "      <td>1353.36</td>\n",
       "    </tr>\n",
       "    <tr>\n",
       "      <th>10</th>\n",
       "      <td>1</td>\n",
       "      <td>DEBIT</td>\n",
       "      <td>9644.94</td>\n",
       "      <td>4465.0</td>\n",
       "      <td>0.0</td>\n",
       "      <td>10845.0</td>\n",
       "      <td>157982.12</td>\n",
       "      <td>0</td>\n",
       "      <td>5179.94</td>\n",
       "    </tr>\n",
       "    <tr>\n",
       "      <th>13</th>\n",
       "      <td>1</td>\n",
       "      <td>PAYMENT</td>\n",
       "      <td>11633.76</td>\n",
       "      <td>10127.0</td>\n",
       "      <td>0.0</td>\n",
       "      <td>0.0</td>\n",
       "      <td>0.00</td>\n",
       "      <td>0</td>\n",
       "      <td>1506.76</td>\n",
       "    </tr>\n",
       "    <tr>\n",
       "      <th>15</th>\n",
       "      <td>1</td>\n",
       "      <td>CASH_OUT</td>\n",
       "      <td>229133.94</td>\n",
       "      <td>15325.0</td>\n",
       "      <td>0.0</td>\n",
       "      <td>5083.0</td>\n",
       "      <td>51513.44</td>\n",
       "      <td>0</td>\n",
       "      <td>213808.94</td>\n",
       "    </tr>\n",
       "    <tr>\n",
       "      <th>16</th>\n",
       "      <td>1</td>\n",
       "      <td>PAYMENT</td>\n",
       "      <td>1563.82</td>\n",
       "      <td>450.0</td>\n",
       "      <td>0.0</td>\n",
       "      <td>0.0</td>\n",
       "      <td>0.00</td>\n",
       "      <td>0</td>\n",
       "      <td>1113.82</td>\n",
       "    </tr>\n",
       "  </tbody>\n",
       "</table>\n",
       "</div>"
      ],
      "text/plain": [
       "    step      type     amount  old_balance_origin  new_balance_origin  \\\n",
       "8      1   PAYMENT    4024.36              2671.0                 0.0   \n",
       "10     1     DEBIT    9644.94              4465.0                 0.0   \n",
       "13     1   PAYMENT   11633.76             10127.0                 0.0   \n",
       "15     1  CASH_OUT  229133.94             15325.0                 0.0   \n",
       "16     1   PAYMENT    1563.82               450.0                 0.0   \n",
       "\n",
       "    old_balance_destination  new_balance_destination  isfraud  \\\n",
       "8                       0.0                     0.00        0   \n",
       "10                  10845.0                157982.12        0   \n",
       "13                      0.0                     0.00        0   \n",
       "15                   5083.0                 51513.44        0   \n",
       "16                      0.0                     0.00        0   \n",
       "\n",
       "    balance_origin_error  \n",
       "8                1353.36  \n",
       "10               5179.94  \n",
       "13               1506.76  \n",
       "15             213808.94  \n",
       "16               1113.82  "
      ]
     },
     "execution_count": 33,
     "metadata": {},
     "output_type": "execute_result"
    }
   ],
   "source": [
    "#Check the values in the newly created field\n",
    "df[df['balance_origin_error']>0].head()"
   ]
  },
  {
   "cell_type": "code",
   "execution_count": 34,
   "id": "debee00f",
   "metadata": {},
   "outputs": [],
   "source": [
    "#Add a new field to df, \"balance_destination_error\"\n",
    "df['balance_destination_error'] =  df.amount + df.old_balance_destination - df.new_balance_destination "
   ]
  },
  {
   "cell_type": "code",
   "execution_count": 35,
   "id": "f694b5b5",
   "metadata": {},
   "outputs": [
    {
     "data": {
      "text/html": [
       "<div>\n",
       "<style scoped>\n",
       "    .dataframe tbody tr th:only-of-type {\n",
       "        vertical-align: middle;\n",
       "    }\n",
       "\n",
       "    .dataframe tbody tr th {\n",
       "        vertical-align: top;\n",
       "    }\n",
       "\n",
       "    .dataframe thead th {\n",
       "        text-align: right;\n",
       "    }\n",
       "</style>\n",
       "<table border=\"1\" class=\"dataframe\">\n",
       "  <thead>\n",
       "    <tr style=\"text-align: right;\">\n",
       "      <th></th>\n",
       "      <th>step</th>\n",
       "      <th>type</th>\n",
       "      <th>amount</th>\n",
       "      <th>old_balance_origin</th>\n",
       "      <th>new_balance_origin</th>\n",
       "      <th>old_balance_destination</th>\n",
       "      <th>new_balance_destination</th>\n",
       "      <th>isfraud</th>\n",
       "      <th>balance_origin_error</th>\n",
       "      <th>balance_destination_error</th>\n",
       "    </tr>\n",
       "  </thead>\n",
       "  <tbody>\n",
       "    <tr>\n",
       "      <th>0</th>\n",
       "      <td>1</td>\n",
       "      <td>PAYMENT</td>\n",
       "      <td>9839.64</td>\n",
       "      <td>170136.0</td>\n",
       "      <td>160296.36</td>\n",
       "      <td>0.0</td>\n",
       "      <td>0.0</td>\n",
       "      <td>0</td>\n",
       "      <td>0.0</td>\n",
       "      <td>9839.64</td>\n",
       "    </tr>\n",
       "    <tr>\n",
       "      <th>1</th>\n",
       "      <td>1</td>\n",
       "      <td>PAYMENT</td>\n",
       "      <td>1864.28</td>\n",
       "      <td>21249.0</td>\n",
       "      <td>19384.72</td>\n",
       "      <td>0.0</td>\n",
       "      <td>0.0</td>\n",
       "      <td>0</td>\n",
       "      <td>0.0</td>\n",
       "      <td>1864.28</td>\n",
       "    </tr>\n",
       "    <tr>\n",
       "      <th>2</th>\n",
       "      <td>1</td>\n",
       "      <td>TRANSFER</td>\n",
       "      <td>181.00</td>\n",
       "      <td>181.0</td>\n",
       "      <td>0.00</td>\n",
       "      <td>0.0</td>\n",
       "      <td>0.0</td>\n",
       "      <td>1</td>\n",
       "      <td>0.0</td>\n",
       "      <td>181.00</td>\n",
       "    </tr>\n",
       "    <tr>\n",
       "      <th>3</th>\n",
       "      <td>1</td>\n",
       "      <td>CASH_OUT</td>\n",
       "      <td>181.00</td>\n",
       "      <td>181.0</td>\n",
       "      <td>0.00</td>\n",
       "      <td>21182.0</td>\n",
       "      <td>0.0</td>\n",
       "      <td>1</td>\n",
       "      <td>0.0</td>\n",
       "      <td>21363.00</td>\n",
       "    </tr>\n",
       "    <tr>\n",
       "      <th>4</th>\n",
       "      <td>1</td>\n",
       "      <td>PAYMENT</td>\n",
       "      <td>11668.14</td>\n",
       "      <td>41554.0</td>\n",
       "      <td>29885.86</td>\n",
       "      <td>0.0</td>\n",
       "      <td>0.0</td>\n",
       "      <td>0</td>\n",
       "      <td>0.0</td>\n",
       "      <td>11668.14</td>\n",
       "    </tr>\n",
       "  </tbody>\n",
       "</table>\n",
       "</div>"
      ],
      "text/plain": [
       "   step      type    amount  old_balance_origin  new_balance_origin  \\\n",
       "0     1   PAYMENT   9839.64            170136.0           160296.36   \n",
       "1     1   PAYMENT   1864.28             21249.0            19384.72   \n",
       "2     1  TRANSFER    181.00               181.0                0.00   \n",
       "3     1  CASH_OUT    181.00               181.0                0.00   \n",
       "4     1   PAYMENT  11668.14             41554.0            29885.86   \n",
       "\n",
       "   old_balance_destination  new_balance_destination  isfraud  \\\n",
       "0                      0.0                      0.0        0   \n",
       "1                      0.0                      0.0        0   \n",
       "2                      0.0                      0.0        1   \n",
       "3                  21182.0                      0.0        1   \n",
       "4                      0.0                      0.0        0   \n",
       "\n",
       "   balance_origin_error  balance_destination_error  \n",
       "0                   0.0                    9839.64  \n",
       "1                   0.0                    1864.28  \n",
       "2                   0.0                     181.00  \n",
       "3                   0.0                   21363.00  \n",
       "4                   0.0                   11668.14  "
      ]
     },
     "execution_count": 35,
     "metadata": {},
     "output_type": "execute_result"
    }
   ],
   "source": [
    "#Check the values in the newly created field\n",
    "df[df['balance_destination_error']>0].head()"
   ]
  },
  {
   "cell_type": "code",
   "execution_count": 36,
   "id": "213d9fb4",
   "metadata": {},
   "outputs": [],
   "source": [
    "#Create two new dataframes, one containing valid transactions and the other contains only fraudulent transactions\n",
    "fraudulent_df = df[(df['isfraud']==1)]\n",
    "valid_df = df[(df['isfraud']==0)]"
   ]
  },
  {
   "cell_type": "code",
   "execution_count": 37,
   "id": "c73445bc",
   "metadata": {},
   "outputs": [
    {
     "data": {
      "text/html": [
       "<div>\n",
       "<style scoped>\n",
       "    .dataframe tbody tr th:only-of-type {\n",
       "        vertical-align: middle;\n",
       "    }\n",
       "\n",
       "    .dataframe tbody tr th {\n",
       "        vertical-align: top;\n",
       "    }\n",
       "\n",
       "    .dataframe thead th {\n",
       "        text-align: right;\n",
       "    }\n",
       "</style>\n",
       "<table border=\"1\" class=\"dataframe\">\n",
       "  <thead>\n",
       "    <tr style=\"text-align: right;\">\n",
       "      <th></th>\n",
       "      <th>balance_origin_error</th>\n",
       "      <th>balance_destination_error</th>\n",
       "    </tr>\n",
       "  </thead>\n",
       "  <tbody>\n",
       "    <tr>\n",
       "      <th>count</th>\n",
       "      <td>8.213000e+03</td>\n",
       "      <td>8.213000e+03</td>\n",
       "    </tr>\n",
       "    <tr>\n",
       "      <th>mean</th>\n",
       "      <td>1.069233e+04</td>\n",
       "      <td>7.325093e+05</td>\n",
       "    </tr>\n",
       "    <tr>\n",
       "      <th>std</th>\n",
       "      <td>2.651461e+05</td>\n",
       "      <td>1.867748e+06</td>\n",
       "    </tr>\n",
       "    <tr>\n",
       "      <th>min</th>\n",
       "      <td>-7.450581e-09</td>\n",
       "      <td>-8.875516e+06</td>\n",
       "    </tr>\n",
       "    <tr>\n",
       "      <th>25%</th>\n",
       "      <td>0.000000e+00</td>\n",
       "      <td>0.000000e+00</td>\n",
       "    </tr>\n",
       "    <tr>\n",
       "      <th>50%</th>\n",
       "      <td>0.000000e+00</td>\n",
       "      <td>2.231460e+03</td>\n",
       "    </tr>\n",
       "    <tr>\n",
       "      <th>75%</th>\n",
       "      <td>0.000000e+00</td>\n",
       "      <td>4.427220e+05</td>\n",
       "    </tr>\n",
       "    <tr>\n",
       "      <th>max</th>\n",
       "      <td>1.000000e+07</td>\n",
       "      <td>1.000000e+07</td>\n",
       "    </tr>\n",
       "  </tbody>\n",
       "</table>\n",
       "</div>"
      ],
      "text/plain": [
       "       balance_origin_error  balance_destination_error\n",
       "count          8.213000e+03               8.213000e+03\n",
       "mean           1.069233e+04               7.325093e+05\n",
       "std            2.651461e+05               1.867748e+06\n",
       "min           -7.450581e-09              -8.875516e+06\n",
       "25%            0.000000e+00               0.000000e+00\n",
       "50%            0.000000e+00               2.231460e+03\n",
       "75%            0.000000e+00               4.427220e+05\n",
       "max            1.000000e+07               1.000000e+07"
      ]
     },
     "execution_count": 37,
     "metadata": {},
     "output_type": "execute_result"
    }
   ],
   "source": [
    "#Check the statistics of \"balance_origin_error\" and \"balance_destination_error\" field in the fraudulent dataframe\n",
    "fraudulent_df[['balance_origin_error','balance_destination_error']].describe()"
   ]
  },
  {
   "cell_type": "code",
   "execution_count": 38,
   "id": "98ca0566",
   "metadata": {},
   "outputs": [
    {
     "data": {
      "text/html": [
       "<div>\n",
       "<style scoped>\n",
       "    .dataframe tbody tr th:only-of-type {\n",
       "        vertical-align: middle;\n",
       "    }\n",
       "\n",
       "    .dataframe tbody tr th {\n",
       "        vertical-align: top;\n",
       "    }\n",
       "\n",
       "    .dataframe thead th {\n",
       "        text-align: right;\n",
       "    }\n",
       "</style>\n",
       "<table border=\"1\" class=\"dataframe\">\n",
       "  <thead>\n",
       "    <tr style=\"text-align: right;\">\n",
       "      <th></th>\n",
       "      <th>balance_origin_error</th>\n",
       "      <th>balance_destination_error</th>\n",
       "    </tr>\n",
       "  </thead>\n",
       "  <tbody>\n",
       "    <tr>\n",
       "      <th>count</th>\n",
       "      <td>6.354407e+06</td>\n",
       "      <td>6.354407e+06</td>\n",
       "    </tr>\n",
       "    <tr>\n",
       "      <th>mean</th>\n",
       "      <td>2.013386e+05</td>\n",
       "      <td>5.469223e+04</td>\n",
       "    </tr>\n",
       "    <tr>\n",
       "      <th>std</th>\n",
       "      <td>6.069289e+05</td>\n",
       "      <td>4.360026e+05</td>\n",
       "    </tr>\n",
       "    <tr>\n",
       "      <th>min</th>\n",
       "      <td>-1.000000e-02</td>\n",
       "      <td>-7.588573e+07</td>\n",
       "    </tr>\n",
       "    <tr>\n",
       "      <th>25%</th>\n",
       "      <td>3.034305e+03</td>\n",
       "      <td>0.000000e+00</td>\n",
       "    </tr>\n",
       "    <tr>\n",
       "      <th>50%</th>\n",
       "      <td>6.904931e+04</td>\n",
       "      <td>3.500680e+03</td>\n",
       "    </tr>\n",
       "    <tr>\n",
       "      <th>75%</th>\n",
       "      <td>2.499534e+05</td>\n",
       "      <td>2.925981e+04</td>\n",
       "    </tr>\n",
       "    <tr>\n",
       "      <th>max</th>\n",
       "      <td>9.244552e+07</td>\n",
       "      <td>1.319123e+07</td>\n",
       "    </tr>\n",
       "  </tbody>\n",
       "</table>\n",
       "</div>"
      ],
      "text/plain": [
       "       balance_origin_error  balance_destination_error\n",
       "count          6.354407e+06               6.354407e+06\n",
       "mean           2.013386e+05               5.469223e+04\n",
       "std            6.069289e+05               4.360026e+05\n",
       "min           -1.000000e-02              -7.588573e+07\n",
       "25%            3.034305e+03               0.000000e+00\n",
       "50%            6.904931e+04               3.500680e+03\n",
       "75%            2.499534e+05               2.925981e+04\n",
       "max            9.244552e+07               1.319123e+07"
      ]
     },
     "execution_count": 38,
     "metadata": {},
     "output_type": "execute_result"
    }
   ],
   "source": [
    "#Check the statistics of \"balance_origin_error\" and \"balance_destination_error\" field in the valid dataframe\n",
    "valid_df[['balance_origin_error','balance_destination_error']].describe()"
   ]
  },
  {
   "cell_type": "markdown",
   "id": "9da1664b",
   "metadata": {},
   "source": [
    "**Observation:** For fraudulent transactions, balance_origin_error, 75% of the data is between -7,450,581,000 and 0. Majority of the transactions were 0. As for balance_destination_error, it is quite varied across the records and it is also has similar to valid transactions' balance_destination_error. While for valid transactions, balance_origin_error, huge numbers of records have error. We might be able to use the balance_origin_error feature  for prediction."
   ]
  },
  {
   "cell_type": "markdown",
   "id": "0a4f119a",
   "metadata": {},
   "source": [
    "##  Prepare the Dataset"
   ]
  },
  {
   "cell_type": "code",
   "execution_count": 39,
   "id": "88cbb84a",
   "metadata": {},
   "outputs": [],
   "source": [
    "#Take a subset of the entire dataset as only TRANSFER and CASH_OUT transactions types have fraudulent transactions\n",
    "df = df[df['type'].isin(['TRANSFER', 'CASH_OUT'])]"
   ]
  },
  {
   "cell_type": "code",
   "execution_count": 40,
   "id": "9da63ab3",
   "metadata": {},
   "outputs": [],
   "source": [
    "#Since \"type\" field is of object field type, we will convert it into one-hot encoding\n",
    "df = pd.get_dummies(df, prefix=['type'], columns = ['type'])"
   ]
  },
  {
   "cell_type": "code",
   "execution_count": 41,
   "id": "9d318155",
   "metadata": {},
   "outputs": [
    {
     "data": {
      "text/html": [
       "<div>\n",
       "<style scoped>\n",
       "    .dataframe tbody tr th:only-of-type {\n",
       "        vertical-align: middle;\n",
       "    }\n",
       "\n",
       "    .dataframe tbody tr th {\n",
       "        vertical-align: top;\n",
       "    }\n",
       "\n",
       "    .dataframe thead th {\n",
       "        text-align: right;\n",
       "    }\n",
       "</style>\n",
       "<table border=\"1\" class=\"dataframe\">\n",
       "  <thead>\n",
       "    <tr style=\"text-align: right;\">\n",
       "      <th></th>\n",
       "      <th>step</th>\n",
       "      <th>amount</th>\n",
       "      <th>old_balance_origin</th>\n",
       "      <th>new_balance_origin</th>\n",
       "      <th>old_balance_destination</th>\n",
       "      <th>new_balance_destination</th>\n",
       "      <th>isfraud</th>\n",
       "      <th>balance_origin_error</th>\n",
       "      <th>balance_destination_error</th>\n",
       "      <th>type_CASH_OUT</th>\n",
       "      <th>type_TRANSFER</th>\n",
       "    </tr>\n",
       "  </thead>\n",
       "  <tbody>\n",
       "    <tr>\n",
       "      <th>2</th>\n",
       "      <td>1</td>\n",
       "      <td>181.00</td>\n",
       "      <td>181.0</td>\n",
       "      <td>0.0</td>\n",
       "      <td>0.0</td>\n",
       "      <td>0.00</td>\n",
       "      <td>1</td>\n",
       "      <td>0.00</td>\n",
       "      <td>181.0</td>\n",
       "      <td>0</td>\n",
       "      <td>1</td>\n",
       "    </tr>\n",
       "    <tr>\n",
       "      <th>3</th>\n",
       "      <td>1</td>\n",
       "      <td>181.00</td>\n",
       "      <td>181.0</td>\n",
       "      <td>0.0</td>\n",
       "      <td>21182.0</td>\n",
       "      <td>0.00</td>\n",
       "      <td>1</td>\n",
       "      <td>0.00</td>\n",
       "      <td>21363.0</td>\n",
       "      <td>1</td>\n",
       "      <td>0</td>\n",
       "    </tr>\n",
       "    <tr>\n",
       "      <th>15</th>\n",
       "      <td>1</td>\n",
       "      <td>229133.94</td>\n",
       "      <td>15325.0</td>\n",
       "      <td>0.0</td>\n",
       "      <td>5083.0</td>\n",
       "      <td>51513.44</td>\n",
       "      <td>0</td>\n",
       "      <td>213808.94</td>\n",
       "      <td>182703.5</td>\n",
       "      <td>1</td>\n",
       "      <td>0</td>\n",
       "    </tr>\n",
       "    <tr>\n",
       "      <th>19</th>\n",
       "      <td>1</td>\n",
       "      <td>215310.30</td>\n",
       "      <td>705.0</td>\n",
       "      <td>0.0</td>\n",
       "      <td>22425.0</td>\n",
       "      <td>0.00</td>\n",
       "      <td>0</td>\n",
       "      <td>214605.30</td>\n",
       "      <td>237735.3</td>\n",
       "      <td>0</td>\n",
       "      <td>1</td>\n",
       "    </tr>\n",
       "    <tr>\n",
       "      <th>24</th>\n",
       "      <td>1</td>\n",
       "      <td>311685.89</td>\n",
       "      <td>10835.0</td>\n",
       "      <td>0.0</td>\n",
       "      <td>6267.0</td>\n",
       "      <td>2719172.89</td>\n",
       "      <td>0</td>\n",
       "      <td>300850.89</td>\n",
       "      <td>-2401220.0</td>\n",
       "      <td>0</td>\n",
       "      <td>1</td>\n",
       "    </tr>\n",
       "  </tbody>\n",
       "</table>\n",
       "</div>"
      ],
      "text/plain": [
       "    step     amount  old_balance_origin  new_balance_origin  \\\n",
       "2      1     181.00               181.0                 0.0   \n",
       "3      1     181.00               181.0                 0.0   \n",
       "15     1  229133.94             15325.0                 0.0   \n",
       "19     1  215310.30               705.0                 0.0   \n",
       "24     1  311685.89             10835.0                 0.0   \n",
       "\n",
       "    old_balance_destination  new_balance_destination  isfraud  \\\n",
       "2                       0.0                     0.00        1   \n",
       "3                   21182.0                     0.00        1   \n",
       "15                   5083.0                 51513.44        0   \n",
       "19                  22425.0                     0.00        0   \n",
       "24                   6267.0               2719172.89        0   \n",
       "\n",
       "    balance_origin_error  balance_destination_error  type_CASH_OUT  \\\n",
       "2                   0.00                      181.0              0   \n",
       "3                   0.00                    21363.0              1   \n",
       "15             213808.94                   182703.5              1   \n",
       "19             214605.30                   237735.3              0   \n",
       "24             300850.89                 -2401220.0              0   \n",
       "\n",
       "    type_TRANSFER  \n",
       "2               1  \n",
       "3               0  \n",
       "15              0  \n",
       "19              1  \n",
       "24              1  "
      ]
     },
     "execution_count": 41,
     "metadata": {},
     "output_type": "execute_result"
    }
   ],
   "source": [
    "#Check the dataset\n",
    "df.head()"
   ]
  },
  {
   "cell_type": "code",
   "execution_count": 42,
   "id": "85e98b57",
   "metadata": {},
   "outputs": [],
   "source": [
    "#Save final dataset into csv so that we do not have to iterate through the steps above over again \n",
    "df.to_csv('dataset.csv', index=False)"
   ]
  },
  {
   "cell_type": "code",
   "execution_count": 49,
   "id": "3520f00f",
   "metadata": {},
   "outputs": [],
   "source": [
    "#Load the update dataset into df to check\n",
    "df = pd.read_csv('dataset.csv')"
   ]
  },
  {
   "cell_type": "code",
   "execution_count": 44,
   "id": "353eadba",
   "metadata": {},
   "outputs": [
    {
     "data": {
      "text/html": [
       "<div>\n",
       "<style scoped>\n",
       "    .dataframe tbody tr th:only-of-type {\n",
       "        vertical-align: middle;\n",
       "    }\n",
       "\n",
       "    .dataframe tbody tr th {\n",
       "        vertical-align: top;\n",
       "    }\n",
       "\n",
       "    .dataframe thead th {\n",
       "        text-align: right;\n",
       "    }\n",
       "</style>\n",
       "<table border=\"1\" class=\"dataframe\">\n",
       "  <thead>\n",
       "    <tr style=\"text-align: right;\">\n",
       "      <th></th>\n",
       "      <th>step</th>\n",
       "      <th>amount</th>\n",
       "      <th>old_balance_origin</th>\n",
       "      <th>new_balance_origin</th>\n",
       "      <th>old_balance_destination</th>\n",
       "      <th>new_balance_destination</th>\n",
       "      <th>isfraud</th>\n",
       "      <th>balance_origin_error</th>\n",
       "      <th>balance_destination_error</th>\n",
       "      <th>type_CASH_OUT</th>\n",
       "      <th>type_TRANSFER</th>\n",
       "    </tr>\n",
       "  </thead>\n",
       "  <tbody>\n",
       "    <tr>\n",
       "      <th>0</th>\n",
       "      <td>1</td>\n",
       "      <td>181.00</td>\n",
       "      <td>181.0</td>\n",
       "      <td>0.0</td>\n",
       "      <td>0.0</td>\n",
       "      <td>0.00</td>\n",
       "      <td>1</td>\n",
       "      <td>0.00</td>\n",
       "      <td>181.0</td>\n",
       "      <td>0</td>\n",
       "      <td>1</td>\n",
       "    </tr>\n",
       "    <tr>\n",
       "      <th>1</th>\n",
       "      <td>1</td>\n",
       "      <td>181.00</td>\n",
       "      <td>181.0</td>\n",
       "      <td>0.0</td>\n",
       "      <td>21182.0</td>\n",
       "      <td>0.00</td>\n",
       "      <td>1</td>\n",
       "      <td>0.00</td>\n",
       "      <td>21363.0</td>\n",
       "      <td>1</td>\n",
       "      <td>0</td>\n",
       "    </tr>\n",
       "    <tr>\n",
       "      <th>2</th>\n",
       "      <td>1</td>\n",
       "      <td>229133.94</td>\n",
       "      <td>15325.0</td>\n",
       "      <td>0.0</td>\n",
       "      <td>5083.0</td>\n",
       "      <td>51513.44</td>\n",
       "      <td>0</td>\n",
       "      <td>213808.94</td>\n",
       "      <td>182703.5</td>\n",
       "      <td>1</td>\n",
       "      <td>0</td>\n",
       "    </tr>\n",
       "    <tr>\n",
       "      <th>3</th>\n",
       "      <td>1</td>\n",
       "      <td>215310.30</td>\n",
       "      <td>705.0</td>\n",
       "      <td>0.0</td>\n",
       "      <td>22425.0</td>\n",
       "      <td>0.00</td>\n",
       "      <td>0</td>\n",
       "      <td>214605.30</td>\n",
       "      <td>237735.3</td>\n",
       "      <td>0</td>\n",
       "      <td>1</td>\n",
       "    </tr>\n",
       "    <tr>\n",
       "      <th>4</th>\n",
       "      <td>1</td>\n",
       "      <td>311685.89</td>\n",
       "      <td>10835.0</td>\n",
       "      <td>0.0</td>\n",
       "      <td>6267.0</td>\n",
       "      <td>2719172.89</td>\n",
       "      <td>0</td>\n",
       "      <td>300850.89</td>\n",
       "      <td>-2401220.0</td>\n",
       "      <td>0</td>\n",
       "      <td>1</td>\n",
       "    </tr>\n",
       "  </tbody>\n",
       "</table>\n",
       "</div>"
      ],
      "text/plain": [
       "   step     amount  old_balance_origin  new_balance_origin  \\\n",
       "0     1     181.00               181.0                 0.0   \n",
       "1     1     181.00               181.0                 0.0   \n",
       "2     1  229133.94             15325.0                 0.0   \n",
       "3     1  215310.30               705.0                 0.0   \n",
       "4     1  311685.89             10835.0                 0.0   \n",
       "\n",
       "   old_balance_destination  new_balance_destination  isfraud  \\\n",
       "0                      0.0                     0.00        1   \n",
       "1                  21182.0                     0.00        1   \n",
       "2                   5083.0                 51513.44        0   \n",
       "3                  22425.0                     0.00        0   \n",
       "4                   6267.0               2719172.89        0   \n",
       "\n",
       "   balance_origin_error  balance_destination_error  type_CASH_OUT  \\\n",
       "0                  0.00                      181.0              0   \n",
       "1                  0.00                    21363.0              1   \n",
       "2             213808.94                   182703.5              1   \n",
       "3             214605.30                   237735.3              0   \n",
       "4             300850.89                 -2401220.0              0   \n",
       "\n",
       "   type_TRANSFER  \n",
       "0              1  \n",
       "1              0  \n",
       "2              0  \n",
       "3              1  \n",
       "4              1  "
      ]
     },
     "execution_count": 44,
     "metadata": {},
     "output_type": "execute_result"
    }
   ],
   "source": [
    "#Check the \n",
    "df.head()"
   ]
  },
  {
   "cell_type": "code",
   "execution_count": 50,
   "id": "7cf2814c",
   "metadata": {},
   "outputs": [
    {
     "data": {
      "image/png": "[encoded data removed]",
      "text/plain": [
       "<Figure size 1080x1080 with 2 Axes>"
      ]
     },
     "metadata": {},
     "output_type": "display_data"
    }
   ],
   "source": [
    "#Plot correlation of fields using heatmap\n",
    "plt.figure(figsize=(15,15))\n",
    "sns.heatmap(df.corr(),cmap = \"coolwarm\", annot=True)\n",
    "plt.show()"
   ]
  },
  {
   "cell_type": "code",
   "execution_count": 45,
   "id": "9194f3df",
   "metadata": {},
   "outputs": [
    {
     "data": {
      "text/plain": [
       "0    2762196\n",
       "1       8213\n",
       "Name: isfraud, dtype: int64"
      ]
     },
     "execution_count": 45,
     "metadata": {},
     "output_type": "execute_result"
    }
   ],
   "source": [
    "#Check if the dataset is balanced\n",
    "df.isfraud.value_counts()"
   ]
  },
  {
   "cell_type": "code",
   "execution_count": 46,
   "id": "41cf7b63",
   "metadata": {},
   "outputs": [],
   "source": [
    "#Define target and feature fields\n",
    "target_col = 'isfraud'\n",
    "feature_cols = [x for x in df.columns if x != target_col]\n",
    "\n",
    "y = df[target_col]\n",
    "X = df[feature_cols]"
   ]
  },
  {
   "cell_type": "code",
   "execution_count": 51,
   "id": "6eaa133e",
   "metadata": {},
   "outputs": [
    {
     "data": {
      "text/plain": [
       "Index(['step', 'amount', 'old_balance_origin', 'new_balance_origin',\n",
       "       'old_balance_destination', 'new_balance_destination',\n",
       "       'balance_origin_error', 'balance_destination_error', 'type_CASH_OUT',\n",
       "       'type_TRANSFER'],\n",
       "      dtype='object')"
      ]
     },
     "execution_count": 51,
     "metadata": {},
     "output_type": "execute_result"
    }
   ],
   "source": [
    "X.columns"
   ]
  },
  {
   "cell_type": "code",
   "execution_count": 47,
   "id": "329d735d",
   "metadata": {},
   "outputs": [],
   "source": [
    "#Split the data set\n",
    "X_train, X_test, y_train, y_test= train_test_split(X, y, test_size = 0.3, random_state=1)"
   ]
  },
  {
   "cell_type": "code",
   "execution_count": 48,
   "id": "2a67089e",
   "metadata": {
    "scrolled": true
   },
   "outputs": [
    {
     "name": "stdout",
     "output_type": "stream",
     "text": [
      "Before SMOTE Counter({0: 1933554, 1: 5732})\n",
      "After SMOTE Counter({0: 1933554, 1: 1933554})\n"
     ]
    }
   ],
   "source": [
    "#Resample data with SMOTE\n",
    "counter = Counter(y_train)\n",
    "print('Before SMOTE',counter)\n",
    "\n",
    "#Oversampling the train dataset using SMOTE\n",
    "smote = SMOTE()\n",
    "X_train_smote, y_train_smote = smote.fit_resample(X_train, y_train)\n",
    "\n",
    "counter = Counter(y_train_smote)\n",
    "print('After SMOTE',counter)"
   ]
  },
  {
   "cell_type": "code",
   "execution_count": 49,
   "id": "d5ef10c2",
   "metadata": {},
   "outputs": [
    {
     "name": "stdout",
     "output_type": "stream",
     "text": [
      "Before SMOTE+ENN Counter({0: 1933554, 1: 5732})\n",
      "After SMOTE+ENN Counter({1: 1929253, 0: 1915255})\n"
     ]
    }
   ],
   "source": [
    "#Resample data with SMOTE + ENN\n",
    "counter = Counter(y_train)\n",
    "print('Before SMOTE+ENN',counter)\n",
    "\n",
    "#Oversampling the train dataset using SMOTE + ENN\n",
    "smoteenn = SMOTEENN()\n",
    "X_train_smoteenn, y_train_smoteenn = smoteenn.fit_resample(X_train, y_train)\n",
    "\n",
    "counter = Counter(y_train_smoteenn)\n",
    "print('After SMOTE+ENN',counter)"
   ]
  },
  {
   "cell_type": "code",
   "execution_count": 2,
   "id": "d4a0603b",
   "metadata": {},
   "outputs": [],
   "source": [
    "import dill"
   ]
  },
  {
   "cell_type": "code",
   "execution_count": 66,
   "id": "608044e4",
   "metadata": {},
   "outputs": [],
   "source": [
    "dill.dump_session('notebook_env_after_randomforest.db')"
   ]
  },
  {
   "cell_type": "code",
   "execution_count": 9,
   "id": "9d0d6dcc",
   "metadata": {},
   "outputs": [],
   "source": [
    "dill.dump_session('notebook_env_after_extratrees.db')"
   ]
  },
  {
   "cell_type": "code",
   "execution_count": 3,
   "id": "ff45f103",
   "metadata": {},
   "outputs": [],
   "source": [
    "dill.load_session('notebook_env_after_randomforest.db')"
   ]
  },
  {
   "cell_type": "code",
   "execution_count": 52,
   "id": "4d5d31e4",
   "metadata": {},
   "outputs": [],
   "source": [
    "best_estimator = {}"
   ]
  },
  {
   "cell_type": "code",
   "execution_count": 53,
   "id": "0c4f66ab",
   "metadata": {},
   "outputs": [],
   "source": [
    "#Define function to get best estimator for each machine learning algorithm\n",
    "def hyperparameter_tuning(X_train, y_train, params, model, algorithm): \n",
    "    pipeline = Pipeline(steps = [['scaler', StandardScaler()], [model, algorithm]])\n",
    "    stratified_kfold = StratifiedKFold(n_splits=5, shuffle=True, random_state=1)\n",
    "    grid = GridSearchCV(estimator=pipeline, param_grid=params, scoring='roc_auc', cv = stratified_kfold, n_jobs=-1)\n",
    "    grid.fit(X_train, y_train)\n",
    "    if model not in best_estimator:\n",
    "        best_estimator[model] = grid.best_estimator_.get_params()[model]"
   ]
  },
  {
   "cell_type": "code",
   "execution_count": 54,
   "id": "b932a516",
   "metadata": {},
   "outputs": [],
   "source": [
    "model_name = []\n",
    "precision = []\n",
    "recall = []\n",
    "f1score = []\n",
    "auc_roc = []"
   ]
  },
  {
   "cell_type": "code",
   "execution_count": 55,
   "id": "76c77f7c",
   "metadata": {},
   "outputs": [],
   "source": [
    "def evaluate_model(X_train, y_train, X_test, y_test, model, model_n):\n",
    "    model.fit(X_train, y_train)\n",
    "    preds = model.predict(X_test)\n",
    "    scores = cross_val_score(model, X_train, y_train, cv=3, scoring=\"accuracy\")\n",
    "    diff = scores.mean() - model.score(X_test, y_test)\n",
    "    SD = diff / scores.std()\n",
    "    y_prob=model.predict_proba(X_test)\n",
    "    \n",
    "    print(f\"Training Score:{model.score(X_train, y_train)}\")\n",
    "    print(f\"Cross V Score: {scores.mean()} +/- {scores.std()}\")\n",
    "    print(f\"Testing Score: {model.score(X_test, y_test)}\")\n",
    "    print(f\"Cross & Test Diff: {diff}\")\n",
    "    print(f\"Standard Deviations Away: {SD}\")\n",
    "    print(f\"Report: {classification_report(y_test, preds)}\")\n",
    "    print(f\"Accuracy Score: {accuracy_score(y_test, preds)}\")\n",
    "    \n",
    "    #Confusion Matrix\n",
    "    cf_matrix = confusion_matrix(y_test, preds)\n",
    "    plt.figure(figsize=(16, 10))\n",
    "    group_names = ['True Negative', 'False Positive', 'False Negative', 'True Positive']\n",
    "    group_counts = [\"{0:0.0f}\".format(value) for value in cf_matrix.flatten()]\n",
    "    group_percentages = [\"{0:.2%}\".format(value) for value in cf_matrix.flatten()/np.sum(cf_matrix)]\n",
    "    labels = [f\"{v1}\\n{v2}\\n{v3}\" for v1, v2, v3 in\n",
    "              zip(group_names,group_counts,group_percentages)]\n",
    "    labels = np.asarray(labels).reshape(2,2)\n",
    "    hm = sns.heatmap(cf_matrix, annot=labels, fmt='', cmap='Blues')\n",
    "    \n",
    "    model_name.append(model_n)\n",
    "    precision.append(precision_score(y_test,preds))\n",
    "    recall.append(recall_score(y_test,preds))\n",
    "    f1score.append(f1_score(y_test,preds))\n",
    "    auc_roc.append(roc_auc_score(y_test, y_prob[:,1]))"
   ]
  },
  {
   "cell_type": "markdown",
   "id": "53933205",
   "metadata": {},
   "source": [
    "## Decision Tree Classifier "
   ]
  },
  {
   "cell_type": "markdown",
   "id": "03a1713e",
   "metadata": {},
   "source": [
    "### Decision Tree Classifier - Find best estimator"
   ]
  },
  {
   "cell_type": "code",
   "execution_count": 56,
   "id": "277e418e",
   "metadata": {},
   "outputs": [],
   "source": [
    "param_dt = {'DecisionTree__criterion' : ['gini', 'entropy'], 'DecisionTree__max_depth' : [2,4,6,8,10,12]}\n",
    "hyperparameter_tuning(X_train, y_train, params = param_dt, model = 'DecisionTree', algorithm=DecisionTreeClassifier())"
   ]
  },
  {
   "cell_type": "code",
   "execution_count": 57,
   "id": "365f65ed",
   "metadata": {},
   "outputs": [
    {
     "data": {
      "text/plain": [
       "DecisionTreeClassifier(criterion='entropy', max_depth=4)"
      ]
     },
     "execution_count": 57,
     "metadata": {},
     "output_type": "execute_result"
    }
   ],
   "source": [
    "best_estimator['DecisionTree']"
   ]
  },
  {
   "cell_type": "markdown",
   "id": "f064747e",
   "metadata": {},
   "source": [
    "#### Decision Tree with orginal dataset "
   ]
  },
  {
   "cell_type": "code",
   "execution_count": 58,
   "id": "286ea896",
   "metadata": {},
   "outputs": [
    {
     "name": "stdout",
     "output_type": "stream",
     "text": [
      "Training Score:0.9999871086575162\n",
      "Cross V Score: 0.9999840147371813 +/- 2.6293181587293343e-06\n",
      "Testing Score: 0.9999867648952081\n",
      "Cross & Test Diff: -2.750158026754157e-06\n",
      "Standard Deviations Away: -1.0459586328963784\n",
      "Report:               precision    recall  f1-score   support\n",
      "\n",
      "           0       1.00      1.00      1.00    828642\n",
      "           1       1.00      1.00      1.00      2481\n",
      "\n",
      "    accuracy                           1.00    831123\n",
      "   macro avg       1.00      1.00      1.00    831123\n",
      "weighted avg       1.00      1.00      1.00    831123\n",
      "\n",
      "Accuracy Score: 0.9999867648952081\n"
     ]
    },
    {
     "data": {
      "image/png": "[encoded data removed]",
      "text/plain": [
       "<Figure size 1152x720 with 2 Axes>"
      ]
     },
     "metadata": {
      "needs_background": "light"
     },
     "output_type": "display_data"
    }
   ],
   "source": [
    "decision_tree = DecisionTreeClassifier(criterion='entropy', max_depth=4)\n",
    "evaluate_model(X_train, y_train, X_test, y_test, model = decision_tree , model_n = 'DecisionTree')"
   ]
  },
  {
   "cell_type": "markdown",
   "id": "92fb142f",
   "metadata": {},
   "source": [
    "#### Decision Tree with SMOTE dataset"
   ]
  },
  {
   "cell_type": "code",
   "execution_count": 59,
   "id": "c392cab3",
   "metadata": {},
   "outputs": [
    {
     "name": "stdout",
     "output_type": "stream",
     "text": [
      "Training Score:0.9977401717252272\n",
      "Cross V Score: 0.9977368100399575 +/- 1.3896719556351166e-05\n",
      "Testing Score: 0.9999879680865528\n",
      "Cross & Test Diff: -0.0022511580465952585\n",
      "Standard Deviations Away: -161.99204693358155\n",
      "Report:               precision    recall  f1-score   support\n",
      "\n",
      "           0       1.00      1.00      1.00    828642\n",
      "           1       1.00      1.00      1.00      2481\n",
      "\n",
      "    accuracy                           1.00    831123\n",
      "   macro avg       1.00      1.00      1.00    831123\n",
      "weighted avg       1.00      1.00      1.00    831123\n",
      "\n",
      "Accuracy Score: 0.9999879680865528\n"
     ]
    },
    {
     "data": {
      "image/png": "[encoded data removed]",
      "text/plain": [
       "<Figure size 1152x720 with 2 Axes>"
      ]
     },
     "metadata": {
      "needs_background": "light"
     },
     "output_type": "display_data"
    }
   ],
   "source": [
    "evaluate_model(X_train_smote, y_train_smote, X_test, y_test, model = decision_tree , model_n = 'DecisionTree_SMOTE')"
   ]
  },
  {
   "cell_type": "markdown",
   "id": "20b55cb3",
   "metadata": {},
   "source": [
    "#### Decision Tree with SMOTE+ENN dataset"
   ]
  },
  {
   "cell_type": "code",
   "execution_count": 60,
   "id": "b0d69261",
   "metadata": {},
   "outputs": [
    {
     "name": "stdout",
     "output_type": "stream",
     "text": [
      "Training Score:0.9987613499568735\n",
      "Cross V Score: 0.998751205604811 +/- 3.0405683916302027e-05\n",
      "Testing Score: 0.9999795457471398\n",
      "Cross & Test Diff: -0.0012283401423287543\n",
      "Standard Deviations Away: -40.39837241319801\n",
      "Report:               precision    recall  f1-score   support\n",
      "\n",
      "           0       1.00      1.00      1.00    828642\n",
      "           1       1.00      1.00      1.00      2481\n",
      "\n",
      "    accuracy                           1.00    831123\n",
      "   macro avg       1.00      1.00      1.00    831123\n",
      "weighted avg       1.00      1.00      1.00    831123\n",
      "\n",
      "Accuracy Score: 0.9999795457471398\n"
     ]
    },
    {
     "data": {
      "image/png": "[encoded data removed]",
      "text/plain": [
       "<Figure size 1152x720 with 2 Axes>"
      ]
     },
     "metadata": {
      "needs_background": "light"
     },
     "output_type": "display_data"
    }
   ],
   "source": [
    "evaluate_model(X_train_smoteenn, y_train_smoteenn, X_test, y_test, model = decision_tree , model_n = 'DecisionTree_SMOTE_ENN')"
   ]
  },
  {
   "cell_type": "markdown",
   "id": "ac758cff",
   "metadata": {},
   "source": [
    "## Random Forest Classifier "
   ]
  },
  {
   "cell_type": "markdown",
   "id": "126bf9ea",
   "metadata": {},
   "source": [
    "### Random Forest Classifier - Find best estimator"
   ]
  },
  {
   "cell_type": "code",
   "execution_count": 61,
   "id": "fd6dd6d9",
   "metadata": {},
   "outputs": [],
   "source": [
    "param_rf = {'RandomForest__max_depth': [3, 5], 'RandomForest__n_estimators': [50, 100]}\n",
    "hyperparameter_tuning(X_train, y_train, params = param_rf, model = 'RandomForest', algorithm=RandomForestClassifier())"
   ]
  },
  {
   "cell_type": "code",
   "execution_count": 62,
   "id": "bc28cfe4",
   "metadata": {},
   "outputs": [
    {
     "data": {
      "text/plain": [
       "RandomForestClassifier(max_depth=5)"
      ]
     },
     "execution_count": 62,
     "metadata": {},
     "output_type": "execute_result"
    }
   ],
   "source": [
    "best_estimator['RandomForest']"
   ]
  },
  {
   "cell_type": "markdown",
   "id": "0783c4bc",
   "metadata": {},
   "source": [
    "#### Random Forest Classifier - Original Dataset"
   ]
  },
  {
   "cell_type": "code",
   "execution_count": 63,
   "id": "5a344ff0",
   "metadata": {},
   "outputs": [
    {
     "name": "stdout",
     "output_type": "stream",
     "text": [
      "Training Score:0.9990341806211152\n",
      "Cross V Score: 0.999016648399857 +/- 2.417511142334343e-05\n",
      "Testing Score: 0.9990157894800168\n",
      "Cross & Test Diff: 8.589198402519926e-07\n",
      "Standard Deviations Away: 0.03552909540771017\n",
      "Report:               precision    recall  f1-score   support\n",
      "\n",
      "           0       1.00      1.00      1.00    828642\n",
      "           1       1.00      0.67      0.80      2481\n",
      "\n",
      "    accuracy                           1.00    831123\n",
      "   macro avg       1.00      0.84      0.90    831123\n",
      "weighted avg       1.00      1.00      1.00    831123\n",
      "\n",
      "Accuracy Score: 0.9990157894800168\n"
     ]
    },
    {
     "data": {
      "image/png": "[encoded data removed]",
      "text/plain": [
       "<Figure size 1152x720 with 2 Axes>"
      ]
     },
     "metadata": {
      "needs_background": "light"
     },
     "output_type": "display_data"
    }
   ],
   "source": [
    "random_forest = RandomForestClassifier(max_depth=5, random_state = 1)\n",
    "evaluate_model(X_train, y_train, X_test, y_test, model = random_forest , model_n = 'RandomForest')"
   ]
  },
  {
   "cell_type": "markdown",
   "id": "5718ff18",
   "metadata": {},
   "source": [
    "#### Random Forest Classifier - SMOTE Dataset "
   ]
  },
  {
   "cell_type": "code",
   "execution_count": 64,
   "id": "620d50a2",
   "metadata": {},
   "outputs": [
    {
     "name": "stdout",
     "output_type": "stream",
     "text": [
      "Training Score:0.9978436081950647\n",
      "Cross V Score: 0.9978402465097949 +/- 1.4895390378437101e-05\n",
      "Testing Score: 0.999978342555795\n",
      "Cross & Test Diff: -0.0021380960460001264\n",
      "Standard Deviations Away: -143.540786221708\n",
      "Report:               precision    recall  f1-score   support\n",
      "\n",
      "           0       1.00      1.00      1.00    828642\n",
      "           1       1.00      1.00      1.00      2481\n",
      "\n",
      "    accuracy                           1.00    831123\n",
      "   macro avg       1.00      1.00      1.00    831123\n",
      "weighted avg       1.00      1.00      1.00    831123\n",
      "\n",
      "Accuracy Score: 0.999978342555795\n"
     ]
    },
    {
     "data": {
      "image/png": "[encoded data removed]",
      "text/plain": [
       "<Figure size 1152x720 with 2 Axes>"
      ]
     },
     "metadata": {
      "needs_background": "light"
     },
     "output_type": "display_data"
    }
   ],
   "source": [
    "evaluate_model(X_train_smote, y_train_smote, X_test, y_test, model = random_forest , model_n = 'RandomForest_SMOTE')"
   ]
  },
  {
   "cell_type": "markdown",
   "id": "f4d86ae5",
   "metadata": {},
   "source": [
    "#### Random Forest Classifier - SMOTE+ENN Dataset "
   ]
  },
  {
   "cell_type": "code",
   "execution_count": 65,
   "id": "b7030a4a",
   "metadata": {},
   "outputs": [
    {
     "name": "stdout",
     "output_type": "stream",
     "text": [
      "Training Score:0.9984986375369749\n",
      "Cross V Score: 0.9984978571949351 +/- 2.487344650144201e-05\n",
      "Testing Score: 0.9999759361731055\n",
      "Cross & Test Diff: -0.0014780789781704273\n",
      "Standard Deviations Away: -59.4239715869185\n",
      "Report:               precision    recall  f1-score   support\n",
      "\n",
      "           0       1.00      1.00      1.00    828642\n",
      "           1       1.00      1.00      1.00      2481\n",
      "\n",
      "    accuracy                           1.00    831123\n",
      "   macro avg       1.00      1.00      1.00    831123\n",
      "weighted avg       1.00      1.00      1.00    831123\n",
      "\n",
      "Accuracy Score: 0.9999759361731055\n"
     ]
    },
    {
     "data": {
      "image/png": "[encoded data removed]",
      "text/plain": [
       "<Figure size 1152x720 with 2 Axes>"
      ]
     },
     "metadata": {
      "needs_background": "light"
     },
     "output_type": "display_data"
    }
   ],
   "source": [
    "evaluate_model(X_train_smoteenn, y_train_smoteenn, X_test, y_test, model = random_forest , model_n = 'RandomForest_SMOTE_ENN')"
   ]
  },
  {
   "cell_type": "markdown",
   "id": "f73ebe81",
   "metadata": {},
   "source": [
    "## ExtraTrees Classifier"
   ]
  },
  {
   "cell_type": "markdown",
   "id": "dd67a695",
   "metadata": {},
   "source": [
    "### ExtraTrees Classifier - Find best estimator "
   ]
  },
  {
   "cell_type": "code",
   "execution_count": 4,
   "id": "f01ca07a",
   "metadata": {},
   "outputs": [],
   "source": [
    "param_et = {'ExtraTrees__criterion': ['gini', 'entropy'], 'ExtraTrees__max_depth': [2,4,6]}\n",
    "hyperparameter_tuning(X_train, y_train, params = param_et, model = 'ExtraTrees', algorithm=ExtraTreesClassifier(random_state=1))"
   ]
  },
  {
   "cell_type": "code",
   "execution_count": 5,
   "id": "1edd1075",
   "metadata": {},
   "outputs": [
    {
     "data": {
      "text/plain": [
       "ExtraTreesClassifier(criterion='entropy', max_depth=6, random_state=1)"
      ]
     },
     "execution_count": 5,
     "metadata": {},
     "output_type": "execute_result"
    }
   ],
   "source": [
    "best_estimator['ExtraTrees']"
   ]
  },
  {
   "cell_type": "markdown",
   "id": "b1663279",
   "metadata": {},
   "source": [
    "#### ExtraTrees Classifier - Original Dataset"
   ]
  },
  {
   "cell_type": "code",
   "execution_count": 6,
   "id": "e54ca0b2",
   "metadata": {},
   "outputs": [
    {
     "name": "stdout",
     "output_type": "stream",
     "text": [
      "Training Score:0.9973294294910601\n",
      "Cross V Score: 0.9973650096093429 +/- 3.356798604730955e-05\n",
      "Testing Score: 0.9973216960666472\n",
      "Cross & Test Diff: 4.331354269571097e-05\n",
      "Standard Deviations Away: 1.2903229474257518\n",
      "Report:               precision    recall  f1-score   support\n",
      "\n",
      "           0       1.00      1.00      1.00    828642\n",
      "           1       1.00      0.10      0.19      2481\n",
      "\n",
      "    accuracy                           1.00    831123\n",
      "   macro avg       1.00      0.55      0.59    831123\n",
      "weighted avg       1.00      1.00      1.00    831123\n",
      "\n",
      "Accuracy Score: 0.9973216960666472\n"
     ]
    },
    {
     "data": {
      "image/png": "[encoded data removed]",
      "text/plain": [
       "<Figure size 1152x720 with 2 Axes>"
      ]
     },
     "metadata": {
      "needs_background": "light"
     },
     "output_type": "display_data"
    }
   ],
   "source": [
    "extra_trees = ExtraTreesClassifier(criterion='entropy', max_depth=6, random_state=1)\n",
    "evaluate_model(X_train, y_train, X_test, y_test, model = extra_trees , model_n = 'ExtraTrees')"
   ]
  },
  {
   "cell_type": "markdown",
   "id": "1f8d5c08",
   "metadata": {},
   "source": [
    "#### ExtraTrees Classifier - SMOTE Dataset"
   ]
  },
  {
   "cell_type": "code",
   "execution_count": 7,
   "id": "3aac483e",
   "metadata": {},
   "outputs": [
    {
     "name": "stdout",
     "output_type": "stream",
     "text": [
      "Training Score:0.8094627820066055\n",
      "Cross V Score: 0.8097229247282466 +/- 0.0033022130862876645\n",
      "Testing Score: 0.8384065896383568\n",
      "Cross & Test Diff: -0.028683664910110207\n",
      "Standard Deviations Away: -8.686194427978684\n",
      "Report:               precision    recall  f1-score   support\n",
      "\n",
      "           0       1.00      0.84      0.91    828642\n",
      "           1       0.01      0.79      0.03      2481\n",
      "\n",
      "    accuracy                           0.84    831123\n",
      "   macro avg       0.51      0.81      0.47    831123\n",
      "weighted avg       1.00      0.84      0.91    831123\n",
      "\n",
      "Accuracy Score: 0.8384065896383568\n"
     ]
    },
    {
     "data": {
      "image/png": "[encoded data removed]",
      "text/plain": [
       "<Figure size 1152x720 with 2 Axes>"
      ]
     },
     "metadata": {
      "needs_background": "light"
     },
     "output_type": "display_data"
    }
   ],
   "source": [
    "evaluate_model(X_train_smote, y_train_smote, X_test, y_test, model = extra_trees , model_n = 'ExtraTrees_SMOTE')"
   ]
  },
  {
   "cell_type": "markdown",
   "id": "d301b17e",
   "metadata": {},
   "source": [
    "#### ExtraTrees Classifier - SMOTE+ENN Dataset"
   ]
  },
  {
   "cell_type": "code",
   "execution_count": 8,
   "id": "85328f31",
   "metadata": {},
   "outputs": [
    {
     "name": "stdout",
     "output_type": "stream",
     "text": [
      "Training Score:0.8172595817202097\n",
      "Cross V Score: 0.8161249771037001 +/- 0.0024734941782869765\n",
      "Testing Score: 0.8411955871754241\n",
      "Cross & Test Diff: -0.025070610071723953\n",
      "Standard Deviations Away: -10.13570611639226\n",
      "Report:               precision    recall  f1-score   support\n",
      "\n",
      "           0       1.00      0.84      0.91    828642\n",
      "           1       0.01      0.80      0.03      2481\n",
      "\n",
      "    accuracy                           0.84    831123\n",
      "   macro avg       0.51      0.82      0.47    831123\n",
      "weighted avg       1.00      0.84      0.91    831123\n",
      "\n",
      "Accuracy Score: 0.8411955871754241\n"
     ]
    },
    {
     "data": {
      "image/png": "[encoded data removed]",
      "text/plain": [
       "<Figure size 1152x720 with 2 Axes>"
      ]
     },
     "metadata": {
      "needs_background": "light"
     },
     "output_type": "display_data"
    }
   ],
   "source": [
    "evaluate_model(X_train_smoteenn, y_train_smoteenn, X_test, y_test, model = extra_trees , model_n = 'ExtraTrees_SMOTE_ENN')"
   ]
  },
  {
   "cell_type": "markdown",
   "id": "9a6e26f7",
   "metadata": {},
   "source": [
    "## GaussianNB "
   ]
  },
  {
   "cell_type": "markdown",
   "id": "20d13fc2",
   "metadata": {},
   "source": [
    "#### GaussianNB with Original Dataset"
   ]
  },
  {
   "cell_type": "code",
   "execution_count": 33,
   "id": "47f32aec",
   "metadata": {},
   "outputs": [
    {
     "name": "stdout",
     "output_type": "stream",
     "text": [
      "Training Score:0.9874531141873865\n",
      "Cross V Score: 0.9873242004977066 +/- 0.0007682734805200343\n",
      "Testing Score: 0.9873652876890665\n",
      "Cross & Test Diff: -4.10871913598676e-05\n",
      "Standard Deviations Away: -0.05347990318767246\n",
      "Report:               precision    recall  f1-score   support\n",
      "\n",
      "           0       1.00      0.99      0.99    828642\n",
      "           1       0.10      0.41      0.16      2481\n",
      "\n",
      "    accuracy                           0.99    831123\n",
      "   macro avg       0.55      0.70      0.58    831123\n",
      "weighted avg       1.00      0.99      0.99    831123\n",
      "\n",
      "Accuracy Score: 0.9873652876890665\n"
     ]
    },
    {
     "data": {
      "image/png": "[encoded data removed]",
      "text/plain": [
       "<Figure size 1152x720 with 2 Axes>"
      ]
     },
     "metadata": {
      "needs_background": "light"
     },
     "output_type": "display_data"
    }
   ],
   "source": [
    "gaussian = GaussianNB()\n",
    "evaluate_model(X_train, y_train, X_test, y_test, model = gaussian , model_n = 'GaussianNB')"
   ]
  },
  {
   "cell_type": "markdown",
   "id": "df0e3c9d",
   "metadata": {},
   "source": [
    "#### GaussianNB with SMOTE Dataset"
   ]
  },
  {
   "cell_type": "code",
   "execution_count": 34,
   "id": "064286e2",
   "metadata": {},
   "outputs": [
    {
     "name": "stdout",
     "output_type": "stream",
     "text": [
      "Training Score:0.7223925476092211\n",
      "Cross V Score: 0.7224858990232494 +/- 0.0011588663592521514\n",
      "Testing Score: 0.9798862502902699\n",
      "Cross & Test Diff: -0.25740035126702043\n",
      "Standard Deviations Away: -222.1139212576056\n",
      "Report:               precision    recall  f1-score   support\n",
      "\n",
      "           0       1.00      0.98      0.99    828642\n",
      "           1       0.07      0.47      0.12      2481\n",
      "\n",
      "    accuracy                           0.98    831123\n",
      "   macro avg       0.53      0.72      0.56    831123\n",
      "weighted avg       1.00      0.98      0.99    831123\n",
      "\n",
      "Accuracy Score: 0.9798862502902699\n"
     ]
    },
    {
     "data": {
      "image/png": "[encoded data removed]",
      "text/plain": [
       "<Figure size 1152x720 with 2 Axes>"
      ]
     },
     "metadata": {
      "needs_background": "light"
     },
     "output_type": "display_data"
    }
   ],
   "source": [
    "evaluate_model(X_train_smote, y_train_smote, X_test, y_test, model = gaussian , model_n = 'GaussianNB_SMOTE')"
   ]
  },
  {
   "cell_type": "markdown",
   "id": "369ea292",
   "metadata": {},
   "source": [
    "#### GaussianNB with SMOTE+ENN Dataset"
   ]
  },
  {
   "cell_type": "code",
   "execution_count": 35,
   "id": "1939e5d5",
   "metadata": {},
   "outputs": [
    {
     "name": "stdout",
     "output_type": "stream",
     "text": [
      "Training Score:0.7270958988770475\n",
      "Cross V Score: 0.7271000607604217 +/- 0.0006395066623187993\n",
      "Testing Score: 0.9779142196762693\n",
      "Cross & Test Diff: -0.2508141589158477\n",
      "Standard Deviations Away: -392.19944637701803\n",
      "Report:               precision    recall  f1-score   support\n",
      "\n",
      "           0       1.00      0.98      0.99    828642\n",
      "           1       0.07      0.48      0.11      2481\n",
      "\n",
      "    accuracy                           0.98    831123\n",
      "   macro avg       0.53      0.73      0.55    831123\n",
      "weighted avg       1.00      0.98      0.99    831123\n",
      "\n",
      "Accuracy Score: 0.9779142196762693\n"
     ]
    },
    {
     "data": {
      "image/png": "[encoded data removed]",
      "text/plain": [
       "<Figure size 1152x720 with 2 Axes>"
      ]
     },
     "metadata": {
      "needs_background": "light"
     },
     "output_type": "display_data"
    }
   ],
   "source": [
    "evaluate_model(X_train_smoteenn, y_train_smoteenn, X_test, y_test, model = gaussian , model_n = 'GaussianNB_SMOTE_ENN')"
   ]
  },
  {
   "cell_type": "markdown",
   "id": "b44eacba",
   "metadata": {},
   "source": [
    "## XGBoost Classifier"
   ]
  },
  {
   "cell_type": "code",
   "execution_count": 10,
   "id": "ff54bd09",
   "metadata": {},
   "outputs": [],
   "source": [
    "#import library\n",
    "import xgboost as xgb"
   ]
  },
  {
   "cell_type": "code",
   "execution_count": 11,
   "id": "0566e61b",
   "metadata": {},
   "outputs": [],
   "source": [
    "#Define initial model\n",
    "xgb1 = XGBClassifier(\n",
    " learning_rate =0.1,\n",
    " n_estimators=1000,\n",
    " max_depth=5,\n",
    " min_child_weight=1,\n",
    " gamma=0,\n",
    " subsample=0.8,\n",
    " colsample_bytree=0.8,\n",
    " objective= 'binary:logistic',\n",
    " nthread=4,\n",
    " scale_pos_weight=1,\n",
    " seed=27)"
   ]
  },
  {
   "cell_type": "markdown",
   "id": "def4f753",
   "metadata": {},
   "source": [
    "Define function for xgboost classifer for hyperparameter tuning"
   ]
  },
  {
   "cell_type": "code",
   "execution_count": 13,
   "id": "196473c4",
   "metadata": {},
   "outputs": [],
   "source": [
    "def xgboost_model_fit(alg, X_train, y_train, X_test, y_test, useTrainCV=True, cv_folds=5, early_stopping_rounds=50):\n",
    "    \n",
    "    if useTrainCV:\n",
    "        xgb_param = alg.get_xgb_params()\n",
    "        xgtrain = xgb.DMatrix(X_train.values, label=y_train.values)\n",
    "        cvresult = xgb.cv(xgb_param, xgtrain, num_boost_round=alg.get_params()['n_estimators'], nfold=cv_folds,\n",
    "            metrics='auc', early_stopping_rounds=early_stopping_rounds)\n",
    "        alg.set_params(n_estimators=cvresult.shape[0])\n",
    "    \n",
    "    #Fit the algorithm on the data\n",
    "    alg.fit(X_train, y_train,eval_metric='auc')\n",
    "        \n",
    "    #Predict training set:\n",
    "    predictions = alg.predict(X_test)\n",
    "    predprob = alg.predict_proba(X_test)[:,1]\n",
    "        \n",
    "    #Print model report:\n",
    "    print (\"\\nModel Report\")\n",
    "    print (\"Accuracy : %.4g\" % metrics.accuracy_score(y_test.values, predictions))\n",
    "    print (\"AUC Score: %f\" % metrics.roc_auc_score(y_test, predprob))\n",
    "    \n",
    "    plt.figure(figsize=(16, 10))                \n",
    "    feat_imp = pd.Series(alg.get_booster().get_fscore()).sort_values(ascending=False)\n",
    "    feat_imp.plot(kind='bar')\n",
    "    plt.title('Feature Importance', fontsize = '20')\n",
    "    plt.ylabel('Feature Importance Score', fontsize = '14')"
   ]
  },
  {
   "cell_type": "code",
   "execution_count": 14,
   "id": "8488ace2",
   "metadata": {},
   "outputs": [
    {
     "name": "stderr",
     "output_type": "stream",
     "text": [
      "C:\\Users\\gerra\\Anaconda3\\envs\\Capstone\\lib\\site-packages\\xgboost\\sklearn.py:1146: UserWarning: The use of label encoder in XGBClassifier is deprecated and will be removed in a future release. To remove this warning, do the following: 1) Pass option use_label_encoder=False when constructing XGBClassifier object; and 2) Encode your labels (y) as integers starting with 0, i.e. 0, 1, 2, ..., [num_class - 1].\n",
      "  warnings.warn(label_encoder_deprecation_msg, UserWarning)\n"
     ]
    },
    {
     "name": "stdout",
     "output_type": "stream",
     "text": [
      "\n",
      "Model Report\n",
      "Accuracy : 0.9992\n",
      "AUC Score: 0.998358\n"
     ]
    },
    {
     "data": {
      "image/png": "[encoded data removed]",
      "text/plain": [
       "<Figure size 1152x720 with 1 Axes>"
      ]
     },
     "metadata": {
      "needs_background": "light"
     },
     "output_type": "display_data"
    }
   ],
   "source": [
    "#Fit model into function\n",
    "xgboost_model_fit(xgb1, X_train, y_train, X_test, y_test)"
   ]
  },
  {
   "cell_type": "markdown",
   "id": "6f8f1684",
   "metadata": {},
   "source": [
    "### XGBoost - Hyperparameter Tuning"
   ]
  },
  {
   "cell_type": "code",
   "execution_count": 15,
   "id": "61b77ea6",
   "metadata": {},
   "outputs": [],
   "source": [
    "#Define parameter set for tuning\n",
    "xgb_param_test = {\n",
    " 'max_depth':range(3,10,2),\n",
    " 'min_child_weight':range(1,6,2)\n",
    "}"
   ]
  },
  {
   "cell_type": "code",
   "execution_count": 16,
   "id": "4d832b7b",
   "metadata": {},
   "outputs": [],
   "source": [
    "#Use gridsearch to find the best hyperparameter\n",
    "gridsearch_xgb_1 = GridSearchCV(estimator = XGBClassifier(learning_rate =0.1, n_estimators=140, max_depth=5,\n",
    " min_child_weight=1, gamma=0, subsample=0.8, colsample_bytree=0.8,\n",
    " objective= 'binary:logistic', nthread=4, scale_pos_weight=1, seed=27), \n",
    " param_grid = xgb_param_test, scoring='roc_auc',n_jobs=4,cv=5)"
   ]
  },
  {
   "cell_type": "code",
   "execution_count": 17,
   "id": "bb716e10",
   "metadata": {},
   "outputs": [
    {
     "name": "stderr",
     "output_type": "stream",
     "text": [
      "C:\\Users\\gerra\\Anaconda3\\envs\\Capstone\\lib\\site-packages\\xgboost\\sklearn.py:1146: UserWarning: The use of label encoder in XGBClassifier is deprecated and will be removed in a future release. To remove this warning, do the following: 1) Pass option use_label_encoder=False when constructing XGBClassifier object; and 2) Encode your labels (y) as integers starting with 0, i.e. 0, 1, 2, ..., [num_class - 1].\n",
      "  warnings.warn(label_encoder_deprecation_msg, UserWarning)\n"
     ]
    },
    {
     "name": "stdout",
     "output_type": "stream",
     "text": [
      "[15:58:32] WARNING: D:\\bld\\xgboost-split_1631904903843\\work\\src\\learner.cc:1095: Starting in XGBoost 1.3.0, the default evaluation metric used with the objective 'binary:logistic' was changed from 'error' to 'logloss'. Explicitly set eval_metric if you'd like to restore the old behavior.\n"
     ]
    },
    {
     "data": {
      "text/plain": [
       "GridSearchCV(cv=5,\n",
       "             estimator=XGBClassifier(base_score=None, booster=None,\n",
       "                                     colsample_bylevel=None,\n",
       "                                     colsample_bynode=None,\n",
       "                                     colsample_bytree=0.8, gamma=0, gpu_id=None,\n",
       "                                     importance_type='gain',\n",
       "                                     interaction_constraints=None,\n",
       "                                     learning_rate=0.1, max_delta_step=None,\n",
       "                                     max_depth=5, min_child_weight=1,\n",
       "                                     missing=nan, monotone_constraints=None,\n",
       "                                     n_estimators=140, n_jobs=None, nthread=4,\n",
       "                                     num_parallel_tree=None, random_state=None,\n",
       "                                     reg_alpha=None, reg_lambda=None,\n",
       "                                     scale_pos_weight=1, seed=27, subsample=0.8,\n",
       "                                     tree_method=None, validate_parameters=None,\n",
       "                                     verbosity=None),\n",
       "             n_jobs=4,\n",
       "             param_grid={'max_depth': range(3, 10, 2),\n",
       "                         'min_child_weight': range(1, 6, 2)},\n",
       "             scoring='roc_auc')"
      ]
     },
     "execution_count": 17,
     "metadata": {},
     "output_type": "execute_result"
    }
   ],
   "source": [
    "#Train the model\n",
    "gridsearch_xgb_1.fit(X_train, y_train)"
   ]
  },
  {
   "cell_type": "code",
   "execution_count": 18,
   "id": "75f32483",
   "metadata": {},
   "outputs": [
    {
     "data": {
      "text/plain": [
       "({'max_depth': 9, 'min_child_weight': 3}, 0.9995176967349557)"
      ]
     },
     "execution_count": 18,
     "metadata": {},
     "output_type": "execute_result"
    }
   ],
   "source": [
    "#Check for the best parameters\n",
    "gridsearch_xgb_1.best_params_, gridsearch_xgb_1.best_score_"
   ]
  },
  {
   "cell_type": "markdown",
   "id": "ba916630",
   "metadata": {},
   "source": [
    "As we saw earlier, the best parameter for max_depth was 9, we do not know if there are better parameter that are beyond 9. We will do a further check."
   ]
  },
  {
   "cell_type": "code",
   "execution_count": 19,
   "id": "669e9104",
   "metadata": {},
   "outputs": [],
   "source": [
    "#Define parameter set for tuning\n",
    "xgb_param_test_2 = {\n",
    " 'max_depth':[9, 11, 13, 15]\n",
    "}\n",
    "\n",
    "#Use gridsearch to find the best hyperparameter\n",
    "gridsearch_xgb_2 = GridSearchCV(estimator = XGBClassifier( learning_rate=0.1, n_estimators=140,\n",
    " min_child_weight=3, gamma=0, subsample=0.8, colsample_bytree=0.8,\n",
    " objective= 'binary:logistic', nthread=4, scale_pos_weight=1,seed=27), \n",
    " param_grid = xgb_param_test_2, scoring='roc_auc',n_jobs=4, cv=5)"
   ]
  },
  {
   "cell_type": "code",
   "execution_count": 20,
   "id": "f671a445",
   "metadata": {},
   "outputs": [
    {
     "name": "stderr",
     "output_type": "stream",
     "text": [
      "C:\\Users\\gerra\\Anaconda3\\envs\\Capstone\\lib\\site-packages\\xgboost\\sklearn.py:1146: UserWarning: The use of label encoder in XGBClassifier is deprecated and will be removed in a future release. To remove this warning, do the following: 1) Pass option use_label_encoder=False when constructing XGBClassifier object; and 2) Encode your labels (y) as integers starting with 0, i.e. 0, 1, 2, ..., [num_class - 1].\n",
      "  warnings.warn(label_encoder_deprecation_msg, UserWarning)\n"
     ]
    },
    {
     "name": "stdout",
     "output_type": "stream",
     "text": [
      "[16:25:17] WARNING: D:\\bld\\xgboost-split_1631904903843\\work\\src\\learner.cc:1095: Starting in XGBoost 1.3.0, the default evaluation metric used with the objective 'binary:logistic' was changed from 'error' to 'logloss'. Explicitly set eval_metric if you'd like to restore the old behavior.\n"
     ]
    },
    {
     "data": {
      "text/plain": [
       "GridSearchCV(cv=5,\n",
       "             estimator=XGBClassifier(base_score=None, booster=None,\n",
       "                                     colsample_bylevel=None,\n",
       "                                     colsample_bynode=None,\n",
       "                                     colsample_bytree=0.8, gamma=0, gpu_id=None,\n",
       "                                     importance_type='gain',\n",
       "                                     interaction_constraints=None,\n",
       "                                     learning_rate=0.1, max_delta_step=None,\n",
       "                                     max_depth=None, min_child_weight=3,\n",
       "                                     missing=nan, monotone_constraints=None,\n",
       "                                     n_estimators=140, n_jobs=None, nthread=4,\n",
       "                                     num_parallel_tree=None, random_state=None,\n",
       "                                     reg_alpha=None, reg_lambda=None,\n",
       "                                     scale_pos_weight=1, seed=27, subsample=0.8,\n",
       "                                     tree_method=None, validate_parameters=None,\n",
       "                                     verbosity=None),\n",
       "             n_jobs=4, param_grid={'max_depth': [9, 11, 13, 15]},\n",
       "             scoring='roc_auc')"
      ]
     },
     "execution_count": 20,
     "metadata": {},
     "output_type": "execute_result"
    }
   ],
   "source": [
    "#Train the model\n",
    "gridsearch_xgb_2.fit(X_train, y_train)"
   ]
  },
  {
   "cell_type": "code",
   "execution_count": 21,
   "id": "8a78cdf3",
   "metadata": {},
   "outputs": [
    {
     "data": {
      "text/plain": [
       "({'max_depth': 9}, 0.9995176967349557)"
      ]
     },
     "execution_count": 21,
     "metadata": {},
     "output_type": "execute_result"
    }
   ],
   "source": [
    "#Check for the best parameters\n",
    "gridsearch_xgb_2.best_params_, gridsearch_xgb_2.best_score_"
   ]
  },
  {
   "cell_type": "code",
   "execution_count": 22,
   "id": "6aff8e48",
   "metadata": {},
   "outputs": [],
   "source": [
    "#Define parameter set for tuning - gamma\n",
    "xgb_param_test_3 = {'gamma':[i/10.0 for i in range(0,5)]\n",
    "                   }\n",
    "\n",
    "#Use gridsearch to find the best hyperparameter\n",
    "gridsearch_xgb_3 = GridSearchCV(estimator = XGBClassifier( learning_rate =0.1, n_estimators=140, max_depth=9,\n",
    " min_child_weight=3, subsample=0.8, colsample_bytree=0.8,\n",
    " objective= 'binary:logistic', nthread=4, scale_pos_weight=1,seed=27), \n",
    " param_grid = xgb_param_test_3, scoring='roc_auc',n_jobs=4, cv=5)"
   ]
  },
  {
   "cell_type": "code",
   "execution_count": 23,
   "id": "3e87a544",
   "metadata": {},
   "outputs": [
    {
     "name": "stderr",
     "output_type": "stream",
     "text": [
      "C:\\Users\\gerra\\Anaconda3\\envs\\Capstone\\lib\\site-packages\\xgboost\\sklearn.py:1146: UserWarning: The use of label encoder in XGBClassifier is deprecated and will be removed in a future release. To remove this warning, do the following: 1) Pass option use_label_encoder=False when constructing XGBClassifier object; and 2) Encode your labels (y) as integers starting with 0, i.e. 0, 1, 2, ..., [num_class - 1].\n",
      "  warnings.warn(label_encoder_deprecation_msg, UserWarning)\n"
     ]
    },
    {
     "name": "stdout",
     "output_type": "stream",
     "text": [
      "[16:57:41] WARNING: D:\\bld\\xgboost-split_1631904903843\\work\\src\\learner.cc:1095: Starting in XGBoost 1.3.0, the default evaluation metric used with the objective 'binary:logistic' was changed from 'error' to 'logloss'. Explicitly set eval_metric if you'd like to restore the old behavior.\n"
     ]
    },
    {
     "data": {
      "text/plain": [
       "GridSearchCV(cv=5,\n",
       "             estimator=XGBClassifier(base_score=None, booster=None,\n",
       "                                     colsample_bylevel=None,\n",
       "                                     colsample_bynode=None,\n",
       "                                     colsample_bytree=0.8, gamma=None,\n",
       "                                     gpu_id=None, importance_type='gain',\n",
       "                                     interaction_constraints=None,\n",
       "                                     learning_rate=0.1, max_delta_step=None,\n",
       "                                     max_depth=9, min_child_weight=3,\n",
       "                                     missing=nan, monotone_constraints=None,\n",
       "                                     n_estimators=140, n_jobs=None, nthread=4,\n",
       "                                     num_parallel_tree=None, random_state=None,\n",
       "                                     reg_alpha=None, reg_lambda=None,\n",
       "                                     scale_pos_weight=1, seed=27, subsample=0.8,\n",
       "                                     tree_method=None, validate_parameters=None,\n",
       "                                     verbosity=None),\n",
       "             n_jobs=4, param_grid={'gamma': [0.0, 0.1, 0.2, 0.3, 0.4]},\n",
       "             scoring='roc_auc')"
      ]
     },
     "execution_count": 23,
     "metadata": {},
     "output_type": "execute_result"
    }
   ],
   "source": [
    "#Train the model\n",
    "gridsearch_xgb_3.fit(X_train, y_train)"
   ]
  },
  {
   "cell_type": "code",
   "execution_count": 24,
   "id": "1e5a0222",
   "metadata": {},
   "outputs": [
    {
     "data": {
      "text/plain": [
       "({'gamma': 0.0}, 0.9995176967349557)"
      ]
     },
     "execution_count": 24,
     "metadata": {},
     "output_type": "execute_result"
    }
   ],
   "source": [
    "#Check for the best parameters\n",
    "gridsearch_xgb_3.best_params_, gridsearch_xgb_3.best_score_"
   ]
  },
  {
   "cell_type": "code",
   "execution_count": 25,
   "id": "007272b4",
   "metadata": {},
   "outputs": [],
   "source": [
    "#Define model, updated with best parameters\n",
    "xgb2 = XGBClassifier(\n",
    " learning_rate =0.1,\n",
    " n_estimators=1000,\n",
    " max_depth=9,\n",
    " min_child_weight=3,\n",
    " gamma=0,\n",
    " subsample=0.8,\n",
    " colsample_bytree=0.8,\n",
    " objective= 'binary:logistic',\n",
    " nthread=4,\n",
    " scale_pos_weight=1,\n",
    " seed=27)"
   ]
  },
  {
   "cell_type": "code",
   "execution_count": 26,
   "id": "ffb53809",
   "metadata": {},
   "outputs": [
    {
     "name": "stdout",
     "output_type": "stream",
     "text": [
      "\n",
      "Model Report\n",
      "Accuracy : 1\n",
      "AUC Score: 0.999535\n"
     ]
    },
    {
     "data": {
      "image/png": "[encoded data removed]",
      "text/plain": [
       "<Figure size 1152x720 with 1 Axes>"
      ]
     },
     "metadata": {
      "needs_background": "light"
     },
     "output_type": "display_data"
    }
   ],
   "source": [
    "#Check for performance after hyperparameter tuning\n",
    "xgboost_model_fit(xgb2, X_train, y_train, X_test, y_test)"
   ]
  },
  {
   "cell_type": "code",
   "execution_count": 27,
   "id": "e4fa6b01",
   "metadata": {},
   "outputs": [],
   "source": [
    "#Tune subsample and colsample_bytree\n",
    "xgb_param_test_4 = {\n",
    " 'subsample':[i/10.0 for i in range(6,10)],\n",
    " 'colsample_bytree':[i/10.0 for i in range(6,10)]\n",
    "}\n",
    "\n",
    "#Use gridsearch to find the best hyperparameter\n",
    "gridsearch_xgb_4 = GridSearchCV(estimator = XGBClassifier( learning_rate =0.1, n_estimators=177, max_depth=9,\n",
    " min_child_weight=3, gamma=0, subsample=0.8, colsample_bytree=0.8,\n",
    " objective= 'binary:logistic', nthread=4, scale_pos_weight=1,seed=27), \n",
    " param_grid = xgb_param_test_4, scoring='roc_auc',n_jobs=4, cv=5)"
   ]
  },
  {
   "cell_type": "code",
   "execution_count": 28,
   "id": "a45f26b2",
   "metadata": {},
   "outputs": [
    {
     "name": "stderr",
     "output_type": "stream",
     "text": [
      "C:\\Users\\gerra\\Anaconda3\\envs\\Capstone\\lib\\site-packages\\xgboost\\sklearn.py:1146: UserWarning: The use of label encoder in XGBClassifier is deprecated and will be removed in a future release. To remove this warning, do the following: 1) Pass option use_label_encoder=False when constructing XGBClassifier object; and 2) Encode your labels (y) as integers starting with 0, i.e. 0, 1, 2, ..., [num_class - 1].\n",
      "  warnings.warn(label_encoder_deprecation_msg, UserWarning)\n"
     ]
    },
    {
     "name": "stdout",
     "output_type": "stream",
     "text": [
      "[18:40:51] WARNING: D:\\bld\\xgboost-split_1631904903843\\work\\src\\learner.cc:1095: Starting in XGBoost 1.3.0, the default evaluation metric used with the objective 'binary:logistic' was changed from 'error' to 'logloss'. Explicitly set eval_metric if you'd like to restore the old behavior.\n"
     ]
    },
    {
     "data": {
      "text/plain": [
       "GridSearchCV(cv=5,\n",
       "             estimator=XGBClassifier(base_score=None, booster=None,\n",
       "                                     colsample_bylevel=None,\n",
       "                                     colsample_bynode=None,\n",
       "                                     colsample_bytree=0.8, gamma=0, gpu_id=None,\n",
       "                                     importance_type='gain',\n",
       "                                     interaction_constraints=None,\n",
       "                                     learning_rate=0.1, max_delta_step=None,\n",
       "                                     max_depth=9, min_child_weight=3,\n",
       "                                     missing=nan, monotone_constraints=None,\n",
       "                                     n_estimators=177, n_jobs=None, nthread=4,\n",
       "                                     num_parallel_tree=None, random_state=None,\n",
       "                                     reg_alpha=None, reg_lambda=None,\n",
       "                                     scale_pos_weight=1, seed=27, subsample=0.8,\n",
       "                                     tree_method=None, validate_parameters=None,\n",
       "                                     verbosity=None),\n",
       "             n_jobs=4,\n",
       "             param_grid={'colsample_bytree': [0.6, 0.7, 0.8, 0.9],\n",
       "                         'subsample': [0.6, 0.7, 0.8, 0.9]},\n",
       "             scoring='roc_auc')"
      ]
     },
     "execution_count": 28,
     "metadata": {},
     "output_type": "execute_result"
    }
   ],
   "source": [
    "#Train the model\n",
    "gridsearch_xgb_4.fit(X_train, y_train)"
   ]
  },
  {
   "cell_type": "code",
   "execution_count": 29,
   "id": "cdb84798",
   "metadata": {},
   "outputs": [
    {
     "data": {
      "text/plain": [
       "({'colsample_bytree': 0.9, 'subsample': 0.6}, 0.9994973010455919)"
      ]
     },
     "execution_count": 29,
     "metadata": {},
     "output_type": "execute_result"
    }
   ],
   "source": [
    "#Check for the best parameters\n",
    "gridsearch_xgb_4.best_params_, gridsearch_xgb_4.best_score_"
   ]
  },
  {
   "cell_type": "code",
   "execution_count": 30,
   "id": "b6764edd",
   "metadata": {},
   "outputs": [],
   "source": [
    "#Dump session so that we do note lose the state of our kernel\n",
    "dill.dump_session('notebook_env_after_xgboost.db')"
   ]
  },
  {
   "cell_type": "code",
   "execution_count": 31,
   "id": "23434fec",
   "metadata": {},
   "outputs": [
    {
     "name": "stdout",
     "output_type": "stream",
     "text": [
      "[19:00:53] WARNING: D:\\bld\\xgboost-split_1631904903843\\work\\src\\learner.cc:1095: Starting in XGBoost 1.3.0, the default evaluation metric used with the objective 'binary:logistic' was changed from 'error' to 'logloss'. Explicitly set eval_metric if you'd like to restore the old behavior.\n"
     ]
    },
    {
     "name": "stderr",
     "output_type": "stream",
     "text": [
      "C:\\Users\\gerra\\Anaconda3\\envs\\Capstone\\lib\\site-packages\\xgboost\\sklearn.py:1146: UserWarning: The use of label encoder in XGBClassifier is deprecated and will be removed in a future release. To remove this warning, do the following: 1) Pass option use_label_encoder=False when constructing XGBClassifier object; and 2) Encode your labels (y) as integers starting with 0, i.e. 0, 1, 2, ..., [num_class - 1].\n",
      "  warnings.warn(label_encoder_deprecation_msg, UserWarning)\n"
     ]
    },
    {
     "name": "stdout",
     "output_type": "stream",
     "text": [
      "[19:08:04] WARNING: D:\\bld\\xgboost-split_1631904903843\\work\\src\\learner.cc:1095: Starting in XGBoost 1.3.0, the default evaluation metric used with the objective 'binary:logistic' was changed from 'error' to 'logloss'. Explicitly set eval_metric if you'd like to restore the old behavior.\n"
     ]
    },
    {
     "name": "stderr",
     "output_type": "stream",
     "text": [
      "C:\\Users\\gerra\\Anaconda3\\envs\\Capstone\\lib\\site-packages\\xgboost\\sklearn.py:1146: UserWarning: The use of label encoder in XGBClassifier is deprecated and will be removed in a future release. To remove this warning, do the following: 1) Pass option use_label_encoder=False when constructing XGBClassifier object; and 2) Encode your labels (y) as integers starting with 0, i.e. 0, 1, 2, ..., [num_class - 1].\n",
      "  warnings.warn(label_encoder_deprecation_msg, UserWarning)\n"
     ]
    },
    {
     "name": "stdout",
     "output_type": "stream",
     "text": [
      "[19:16:21] WARNING: D:\\bld\\xgboost-split_1631904903843\\work\\src\\learner.cc:1095: Starting in XGBoost 1.3.0, the default evaluation metric used with the objective 'binary:logistic' was changed from 'error' to 'logloss'. Explicitly set eval_metric if you'd like to restore the old behavior.\n"
     ]
    },
    {
     "name": "stderr",
     "output_type": "stream",
     "text": [
      "C:\\Users\\gerra\\Anaconda3\\envs\\Capstone\\lib\\site-packages\\xgboost\\sklearn.py:1146: UserWarning: The use of label encoder in XGBClassifier is deprecated and will be removed in a future release. To remove this warning, do the following: 1) Pass option use_label_encoder=False when constructing XGBClassifier object; and 2) Encode your labels (y) as integers starting with 0, i.e. 0, 1, 2, ..., [num_class - 1].\n",
      "  warnings.warn(label_encoder_deprecation_msg, UserWarning)\n"
     ]
    },
    {
     "name": "stdout",
     "output_type": "stream",
     "text": [
      "[19:20:00] WARNING: D:\\bld\\xgboost-split_1631904903843\\work\\src\\learner.cc:1095: Starting in XGBoost 1.3.0, the default evaluation metric used with the objective 'binary:logistic' was changed from 'error' to 'logloss'. Explicitly set eval_metric if you'd like to restore the old behavior.\n",
      "Training Score:0.9999922651945097\n",
      "Cross V Score: 0.9999840147387768 +/- 6.481658202509808e-06\n",
      "Testing Score: 0.9999891712778975\n",
      "Cross & Test Diff: -5.156539120698689e-06\n",
      "Standard Deviations Away: -0.7955586301514618\n",
      "Report:               precision    recall  f1-score   support\n",
      "\n",
      "           0       1.00      1.00      1.00    828642\n",
      "           1       1.00      1.00      1.00      2481\n",
      "\n",
      "    accuracy                           1.00    831123\n",
      "   macro avg       1.00      1.00      1.00    831123\n",
      "weighted avg       1.00      1.00      1.00    831123\n",
      "\n",
      "Accuracy Score: 0.9999891712778975\n"
     ]
    },
    {
     "data": {
      "image/png": "[encoded data removed]",
      "text/plain": [
       "<Figure size 1152x720 with 2 Axes>"
      ]
     },
     "metadata": {
      "needs_background": "light"
     },
     "output_type": "display_data"
    }
   ],
   "source": [
    "#Define XGBoost classifier with best params\n",
    "xtreme_gradient_boost = XGBClassifier(\n",
    " learning_rate =0.1,\n",
    " n_estimators=1000,\n",
    " max_depth=9,\n",
    " min_child_weight=3,\n",
    " gamma=0,\n",
    " subsample=0.6,\n",
    " colsample_bytree=0.9,\n",
    " objective= 'binary:logistic',\n",
    " nthread=4,\n",
    " scale_pos_weight=1,\n",
    " seed=27)\n",
    "evaluate_model(X_train, y_train, X_test, y_test, model = xtreme_gradient_boost , model_n = 'XtremeGradientBoost')"
   ]
  },
  {
   "cell_type": "markdown",
   "id": "54e3a4d4",
   "metadata": {},
   "source": [
    "#### XGBoost - SMOTE Dataset"
   ]
  },
  {
   "cell_type": "code",
   "execution_count": 32,
   "id": "a44dccc9",
   "metadata": {},
   "outputs": [
    {
     "name": "stderr",
     "output_type": "stream",
     "text": [
      "C:\\Users\\gerra\\Anaconda3\\envs\\Capstone\\lib\\site-packages\\xgboost\\sklearn.py:1146: UserWarning: The use of label encoder in XGBClassifier is deprecated and will be removed in a future release. To remove this warning, do the following: 1) Pass option use_label_encoder=False when constructing XGBClassifier object; and 2) Encode your labels (y) as integers starting with 0, i.e. 0, 1, 2, ..., [num_class - 1].\n",
      "  warnings.warn(label_encoder_deprecation_msg, UserWarning)\n"
     ]
    },
    {
     "name": "stdout",
     "output_type": "stream",
     "text": [
      "[19:32:58] WARNING: D:\\bld\\xgboost-split_1631904903843\\work\\src\\learner.cc:1095: Starting in XGBoost 1.3.0, the default evaluation metric used with the objective 'binary:logistic' was changed from 'error' to 'logloss'. Explicitly set eval_metric if you'd like to restore the old behavior.\n"
     ]
    },
    {
     "name": "stderr",
     "output_type": "stream",
     "text": [
      "C:\\Users\\gerra\\Anaconda3\\envs\\Capstone\\lib\\site-packages\\xgboost\\sklearn.py:1146: UserWarning: The use of label encoder in XGBClassifier is deprecated and will be removed in a future release. To remove this warning, do the following: 1) Pass option use_label_encoder=False when constructing XGBClassifier object; and 2) Encode your labels (y) as integers starting with 0, i.e. 0, 1, 2, ..., [num_class - 1].\n",
      "  warnings.warn(label_encoder_deprecation_msg, UserWarning)\n"
     ]
    },
    {
     "name": "stdout",
     "output_type": "stream",
     "text": [
      "[20:12:21] WARNING: D:\\bld\\xgboost-split_1631904903843\\work\\src\\learner.cc:1095: Starting in XGBoost 1.3.0, the default evaluation metric used with the objective 'binary:logistic' was changed from 'error' to 'logloss'. Explicitly set eval_metric if you'd like to restore the old behavior.\n"
     ]
    },
    {
     "name": "stderr",
     "output_type": "stream",
     "text": [
      "C:\\Users\\gerra\\Anaconda3\\envs\\Capstone\\lib\\site-packages\\xgboost\\sklearn.py:1146: UserWarning: The use of label encoder in XGBClassifier is deprecated and will be removed in a future release. To remove this warning, do the following: 1) Pass option use_label_encoder=False when constructing XGBClassifier object; and 2) Encode your labels (y) as integers starting with 0, i.e. 0, 1, 2, ..., [num_class - 1].\n",
      "  warnings.warn(label_encoder_deprecation_msg, UserWarning)\n"
     ]
    },
    {
     "name": "stdout",
     "output_type": "stream",
     "text": [
      "[20:49:19] WARNING: D:\\bld\\xgboost-split_1631904903843\\work\\src\\learner.cc:1095: Starting in XGBoost 1.3.0, the default evaluation metric used with the objective 'binary:logistic' was changed from 'error' to 'logloss'. Explicitly set eval_metric if you'd like to restore the old behavior.\n"
     ]
    },
    {
     "name": "stderr",
     "output_type": "stream",
     "text": [
      "C:\\Users\\gerra\\Anaconda3\\envs\\Capstone\\lib\\site-packages\\xgboost\\sklearn.py:1146: UserWarning: The use of label encoder in XGBClassifier is deprecated and will be removed in a future release. To remove this warning, do the following: 1) Pass option use_label_encoder=False when constructing XGBClassifier object; and 2) Encode your labels (y) as integers starting with 0, i.e. 0, 1, 2, ..., [num_class - 1].\n",
      "  warnings.warn(label_encoder_deprecation_msg, UserWarning)\n"
     ]
    },
    {
     "name": "stdout",
     "output_type": "stream",
     "text": [
      "[21:11:58] WARNING: D:\\bld\\xgboost-split_1631904903843\\work\\src\\learner.cc:1095: Starting in XGBoost 1.3.0, the default evaluation metric used with the objective 'binary:logistic' was changed from 'error' to 'logloss'. Explicitly set eval_metric if you'd like to restore the old behavior.\n",
      "Training Score:0.9999992242264762\n",
      "Cross V Score: 0.999908975906543 +/- 9.186358213074747e-06\n",
      "Testing Score: 0.9999302149020061\n",
      "Cross & Test Diff: -2.1238995463024324e-05\n",
      "Standard Deviations Away: -2.312014725573766\n",
      "Report:               precision    recall  f1-score   support\n",
      "\n",
      "           0       1.00      1.00      1.00    828642\n",
      "           1       0.98      1.00      0.99      2481\n",
      "\n",
      "    accuracy                           1.00    831123\n",
      "   macro avg       0.99      1.00      0.99    831123\n",
      "weighted avg       1.00      1.00      1.00    831123\n",
      "\n",
      "Accuracy Score: 0.9999302149020061\n"
     ]
    },
    {
     "data": {
      "image/png": "[encoded data removed]",
      "text/plain": [
       "<Figure size 1152x720 with 2 Axes>"
      ]
     },
     "metadata": {
      "needs_background": "light"
     },
     "output_type": "display_data"
    }
   ],
   "source": [
    "evaluate_model(X_train_smote, y_train_smote, X_test, y_test, model = xtreme_gradient_boost , model_n = 'XtremeGradientBoost_SMOTE')"
   ]
  },
  {
   "cell_type": "markdown",
   "id": "7a45df91",
   "metadata": {},
   "source": [
    "## Evaluation"
   ]
  },
  {
   "cell_type": "code",
   "execution_count": 36,
   "id": "265931ab",
   "metadata": {},
   "outputs": [],
   "source": [
    "evaluation_df = pd.DataFrame({'model':model_name,\n",
    "                            'precision':precision,\n",
    "                            'recall':recall,\n",
    "                            'f1-score':f1score,\n",
    "                            'AUC-ROC':auc_roc})"
   ]
  },
  {
   "cell_type": "code",
   "execution_count": 52,
   "id": "0d548134",
   "metadata": {},
   "outputs": [
    {
     "data": {
      "text/html": [
       "<div>\n",
       "<style scoped>\n",
       "    .dataframe tbody tr th:only-of-type {\n",
       "        vertical-align: middle;\n",
       "    }\n",
       "\n",
       "    .dataframe tbody tr th {\n",
       "        vertical-align: top;\n",
       "    }\n",
       "\n",
       "    .dataframe thead th {\n",
       "        text-align: right;\n",
       "    }\n",
       "</style>\n",
       "<table border=\"1\" class=\"dataframe\">\n",
       "  <thead>\n",
       "    <tr style=\"text-align: right;\">\n",
       "      <th></th>\n",
       "      <th>model</th>\n",
       "      <th>precision</th>\n",
       "      <th>recall</th>\n",
       "      <th>f1-score</th>\n",
       "      <th>AUC-ROC</th>\n",
       "    </tr>\n",
       "  </thead>\n",
       "  <tbody>\n",
       "    <tr>\n",
       "      <th>9</th>\n",
       "      <td>XtremeGradientBoost</td>\n",
       "      <td>1.000000</td>\n",
       "      <td>0.996372</td>\n",
       "      <td>0.998183</td>\n",
       "      <td>0.999563</td>\n",
       "    </tr>\n",
       "    <tr>\n",
       "      <th>1</th>\n",
       "      <td>DecisionTree_SMOTE</td>\n",
       "      <td>0.999596</td>\n",
       "      <td>0.996372</td>\n",
       "      <td>0.997981</td>\n",
       "      <td>0.999336</td>\n",
       "    </tr>\n",
       "    <tr>\n",
       "      <th>0</th>\n",
       "      <td>DecisionTree</td>\n",
       "      <td>0.999595</td>\n",
       "      <td>0.995969</td>\n",
       "      <td>0.997779</td>\n",
       "      <td>0.998821</td>\n",
       "    </tr>\n",
       "    <tr>\n",
       "      <th>2</th>\n",
       "      <td>DecisionTree_SMOTE_ENN</td>\n",
       "      <td>0.996774</td>\n",
       "      <td>0.996372</td>\n",
       "      <td>0.996573</td>\n",
       "      <td>0.998415</td>\n",
       "    </tr>\n",
       "    <tr>\n",
       "      <th>4</th>\n",
       "      <td>RandomForest_SMOTE</td>\n",
       "      <td>0.996372</td>\n",
       "      <td>0.996372</td>\n",
       "      <td>0.996372</td>\n",
       "      <td>0.998835</td>\n",
       "    </tr>\n",
       "    <tr>\n",
       "      <th>5</th>\n",
       "      <td>RandomForest_SMOTE_ENN</td>\n",
       "      <td>0.995570</td>\n",
       "      <td>0.996372</td>\n",
       "      <td>0.995971</td>\n",
       "      <td>0.998642</td>\n",
       "    </tr>\n",
       "    <tr>\n",
       "      <th>10</th>\n",
       "      <td>XtremeGradientBoost_SMOTE</td>\n",
       "      <td>0.980563</td>\n",
       "      <td>0.996372</td>\n",
       "      <td>0.988405</td>\n",
       "      <td>0.999370</td>\n",
       "    </tr>\n",
       "    <tr>\n",
       "      <th>3</th>\n",
       "      <td>RandomForest</td>\n",
       "      <td>0.999399</td>\n",
       "      <td>0.670697</td>\n",
       "      <td>0.802701</td>\n",
       "      <td>0.998919</td>\n",
       "    </tr>\n",
       "    <tr>\n",
       "      <th>6</th>\n",
       "      <td>ExtraTrees</td>\n",
       "      <td>1.000000</td>\n",
       "      <td>0.102781</td>\n",
       "      <td>0.186404</td>\n",
       "      <td>0.949269</td>\n",
       "    </tr>\n",
       "    <tr>\n",
       "      <th>11</th>\n",
       "      <td>GaussianNB</td>\n",
       "      <td>0.100279</td>\n",
       "      <td>0.405482</td>\n",
       "      <td>0.160793</td>\n",
       "      <td>0.922423</td>\n",
       "    </tr>\n",
       "    <tr>\n",
       "      <th>12</th>\n",
       "      <td>GaussianNB_SMOTE</td>\n",
       "      <td>0.069909</td>\n",
       "      <td>0.466344</td>\n",
       "      <td>0.121591</td>\n",
       "      <td>0.913034</td>\n",
       "    </tr>\n",
       "    <tr>\n",
       "      <th>13</th>\n",
       "      <td>GaussianNB_SMOTE_ENN</td>\n",
       "      <td>0.065140</td>\n",
       "      <td>0.479242</td>\n",
       "      <td>0.114691</td>\n",
       "      <td>0.911921</td>\n",
       "    </tr>\n",
       "    <tr>\n",
       "      <th>8</th>\n",
       "      <td>ExtraTrees_SMOTE_ENN</td>\n",
       "      <td>0.014944</td>\n",
       "      <td>0.804111</td>\n",
       "      <td>0.029343</td>\n",
       "      <td>0.934421</td>\n",
       "    </tr>\n",
       "    <tr>\n",
       "      <th>7</th>\n",
       "      <td>ExtraTrees_SMOTE</td>\n",
       "      <td>0.014425</td>\n",
       "      <td>0.789198</td>\n",
       "      <td>0.028332</td>\n",
       "      <td>0.930042</td>\n",
       "    </tr>\n",
       "  </tbody>\n",
       "</table>\n",
       "</div>"
      ],
      "text/plain": [
       "                        model  precision    recall  f1-score   AUC-ROC\n",
       "9         XtremeGradientBoost   1.000000  0.996372  0.998183  0.999563\n",
       "1          DecisionTree_SMOTE   0.999596  0.996372  0.997981  0.999336\n",
       "0                DecisionTree   0.999595  0.995969  0.997779  0.998821\n",
       "2      DecisionTree_SMOTE_ENN   0.996774  0.996372  0.996573  0.998415\n",
       "4          RandomForest_SMOTE   0.996372  0.996372  0.996372  0.998835\n",
       "5      RandomForest_SMOTE_ENN   0.995570  0.996372  0.995971  0.998642\n",
       "10  XtremeGradientBoost_SMOTE   0.980563  0.996372  0.988405  0.999370\n",
       "3                RandomForest   0.999399  0.670697  0.802701  0.998919\n",
       "6                  ExtraTrees   1.000000  0.102781  0.186404  0.949269\n",
       "11                 GaussianNB   0.100279  0.405482  0.160793  0.922423\n",
       "12           GaussianNB_SMOTE   0.069909  0.466344  0.121591  0.913034\n",
       "13       GaussianNB_SMOTE_ENN   0.065140  0.479242  0.114691  0.911921\n",
       "8        ExtraTrees_SMOTE_ENN   0.014944  0.804111  0.029343  0.934421\n",
       "7            ExtraTrees_SMOTE   0.014425  0.789198  0.028332  0.930042"
      ]
     },
     "execution_count": 52,
     "metadata": {},
     "output_type": "execute_result"
    }
   ],
   "source": [
    "evaluation_df.sort_values(by=['f1-score', 'AUC-ROC'], ascending=False)"
   ]
  }
 ],
 "metadata": {
  "kernelspec": {
   "display_name": "Python 3 (ipykernel)",
   "language": "python",
   "name": "python3"
  },
  "language_info": {
   "codemirror_mode": {
    "name": "ipython",
    "version": 3
   },
   "file_extension": ".py",
   "mimetype": "text/x-python",
   "name": "python",
   "nbconvert_exporter": "python",
   "pygments_lexer": "ipython3",
   "version": "3.8.11"
  }
 },
 "nbformat": 4,
 "nbformat_minor": 5
}
