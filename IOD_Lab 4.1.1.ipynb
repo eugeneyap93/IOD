{
 "cells": [
  {
   "cell_type": "markdown",
   "metadata": {
    "id": "jZSSKjAWXd3j"
   },
   "source": [
    "<div>\n",
    "<img src=https://www.institutedata.com/wp-content/uploads/2019/10/iod_h_tp_primary_c.svg width=\"300\">\n",
    "</div>"
   ]
  },
  {
   "cell_type": "markdown",
   "metadata": {
    "id": "2Ms9riXMXd3k"
   },
   "source": [
    "# Lab 4.1.1 Linear Regression"
   ]
  },
  {
   "cell_type": "markdown",
   "metadata": {
    "id": "twocr7v8Xd3l"
   },
   "source": [
    "## Prediction of House Price Using Linear Regression"
   ]
  },
  {
   "cell_type": "markdown",
   "metadata": {
    "id": "0j3ZiTCPXd3m"
   },
   "source": [
    "### Data\n",
    "\n",
    "The Sacramento real estate transactions file is a list of 985 real estate transactions in the Sacramento area reported over a five-day period, as reported by the Sacramento Bee."
   ]
  },
  {
   "cell_type": "code",
   "execution_count": 4,
   "metadata": {
    "id": "hejYh49cXd3n"
   },
   "outputs": [],
   "source": [
    "import pandas as pd\n",
    "import numpy as np\n",
    "import pandas as pd\n",
    "\n",
    "%matplotlib inline"
   ]
  },
  {
   "cell_type": "markdown",
   "metadata": {
    "id": "BlumKNPDXd3q"
   },
   "source": [
    "### 1. Explore Data"
   ]
  },
  {
   "cell_type": "markdown",
   "metadata": {
    "id": "h1FUHCAnXd3r"
   },
   "source": [
    "Perform EDA on this dataset. Use what you have learned so far. Be creative. List all your findings."
   ]
  },
  {
   "cell_type": "code",
   "execution_count": 5,
   "metadata": {
    "id": "C8BX-oTKXd3s"
   },
   "outputs": [],
   "source": [
    "# Read CSV\n",
    "house_csv = pd.read_csv(\"Sacramento_transactions.csv\")"
   ]
  },
  {
   "cell_type": "code",
   "execution_count": 6,
   "metadata": {},
   "outputs": [
    {
     "data": {
      "text/html": [
       "<div>\n",
       "<style scoped>\n",
       "    .dataframe tbody tr th:only-of-type {\n",
       "        vertical-align: middle;\n",
       "    }\n",
       "\n",
       "    .dataframe tbody tr th {\n",
       "        vertical-align: top;\n",
       "    }\n",
       "\n",
       "    .dataframe thead th {\n",
       "        text-align: right;\n",
       "    }\n",
       "</style>\n",
       "<table border=\"1\" class=\"dataframe\">\n",
       "  <thead>\n",
       "    <tr style=\"text-align: right;\">\n",
       "      <th></th>\n",
       "      <th>street</th>\n",
       "      <th>city</th>\n",
       "      <th>zip</th>\n",
       "      <th>state</th>\n",
       "      <th>beds</th>\n",
       "      <th>baths</th>\n",
       "      <th>sq__ft</th>\n",
       "      <th>type</th>\n",
       "      <th>sale_date</th>\n",
       "      <th>price</th>\n",
       "      <th>latitude</th>\n",
       "      <th>longitude</th>\n",
       "    </tr>\n",
       "  </thead>\n",
       "  <tbody>\n",
       "    <tr>\n",
       "      <th>0</th>\n",
       "      <td>3526 HIGH ST</td>\n",
       "      <td>SACRAMENTO</td>\n",
       "      <td>95838</td>\n",
       "      <td>CA</td>\n",
       "      <td>2</td>\n",
       "      <td>1</td>\n",
       "      <td>836</td>\n",
       "      <td>Residential</td>\n",
       "      <td>Wed May 21 00:00:00 EDT 2008</td>\n",
       "      <td>59222</td>\n",
       "      <td>38.631913</td>\n",
       "      <td>-121.434879</td>\n",
       "    </tr>\n",
       "    <tr>\n",
       "      <th>1</th>\n",
       "      <td>51 OMAHA CT</td>\n",
       "      <td>SACRAMENTO</td>\n",
       "      <td>95823</td>\n",
       "      <td>CA</td>\n",
       "      <td>3</td>\n",
       "      <td>1</td>\n",
       "      <td>1167</td>\n",
       "      <td>Residential</td>\n",
       "      <td>Wed May 21 00:00:00 EDT 2008</td>\n",
       "      <td>68212</td>\n",
       "      <td>38.478902</td>\n",
       "      <td>-121.431028</td>\n",
       "    </tr>\n",
       "    <tr>\n",
       "      <th>2</th>\n",
       "      <td>2796 BRANCH ST</td>\n",
       "      <td>SACRAMENTO</td>\n",
       "      <td>95815</td>\n",
       "      <td>CA</td>\n",
       "      <td>2</td>\n",
       "      <td>1</td>\n",
       "      <td>796</td>\n",
       "      <td>Residential</td>\n",
       "      <td>Wed May 21 00:00:00 EDT 2008</td>\n",
       "      <td>68880</td>\n",
       "      <td>38.618305</td>\n",
       "      <td>-121.443839</td>\n",
       "    </tr>\n",
       "    <tr>\n",
       "      <th>3</th>\n",
       "      <td>2805 JANETTE WAY</td>\n",
       "      <td>SACRAMENTO</td>\n",
       "      <td>95815</td>\n",
       "      <td>CA</td>\n",
       "      <td>2</td>\n",
       "      <td>1</td>\n",
       "      <td>852</td>\n",
       "      <td>Residential</td>\n",
       "      <td>Wed May 21 00:00:00 EDT 2008</td>\n",
       "      <td>69307</td>\n",
       "      <td>38.616835</td>\n",
       "      <td>-121.439146</td>\n",
       "    </tr>\n",
       "    <tr>\n",
       "      <th>4</th>\n",
       "      <td>6001 MCMAHON DR</td>\n",
       "      <td>SACRAMENTO</td>\n",
       "      <td>95824</td>\n",
       "      <td>CA</td>\n",
       "      <td>2</td>\n",
       "      <td>1</td>\n",
       "      <td>797</td>\n",
       "      <td>Residential</td>\n",
       "      <td>Wed May 21 00:00:00 EDT 2008</td>\n",
       "      <td>81900</td>\n",
       "      <td>38.519470</td>\n",
       "      <td>-121.435768</td>\n",
       "    </tr>\n",
       "  </tbody>\n",
       "</table>\n",
       "</div>"
      ],
      "text/plain": [
       "             street        city    zip state  beds  baths  sq__ft  \\\n",
       "0      3526 HIGH ST  SACRAMENTO  95838    CA     2      1     836   \n",
       "1       51 OMAHA CT  SACRAMENTO  95823    CA     3      1    1167   \n",
       "2    2796 BRANCH ST  SACRAMENTO  95815    CA     2      1     796   \n",
       "3  2805 JANETTE WAY  SACRAMENTO  95815    CA     2      1     852   \n",
       "4   6001 MCMAHON DR  SACRAMENTO  95824    CA     2      1     797   \n",
       "\n",
       "          type                     sale_date  price   latitude   longitude  \n",
       "0  Residential  Wed May 21 00:00:00 EDT 2008  59222  38.631913 -121.434879  \n",
       "1  Residential  Wed May 21 00:00:00 EDT 2008  68212  38.478902 -121.431028  \n",
       "2  Residential  Wed May 21 00:00:00 EDT 2008  68880  38.618305 -121.443839  \n",
       "3  Residential  Wed May 21 00:00:00 EDT 2008  69307  38.616835 -121.439146  \n",
       "4  Residential  Wed May 21 00:00:00 EDT 2008  81900  38.519470 -121.435768  "
      ]
     },
     "execution_count": 6,
     "metadata": {},
     "output_type": "execute_result"
    }
   ],
   "source": [
    "house_csv.head()"
   ]
  },
  {
   "cell_type": "code",
   "execution_count": 7,
   "metadata": {},
   "outputs": [
    {
     "data": {
      "text/plain": [
       "(985, 12)"
      ]
     },
     "execution_count": 7,
     "metadata": {},
     "output_type": "execute_result"
    }
   ],
   "source": [
    "house_csv.shape"
   ]
  },
  {
   "cell_type": "markdown",
   "metadata": {
    "id": "sIztKXN7Xd3u"
   },
   "source": [
    "### 2. Predict Price"
   ]
  },
  {
   "cell_type": "markdown",
   "metadata": {
    "id": "hzXJOP2_Xd3v"
   },
   "source": [
    "We are going to predict `price` from available information."
   ]
  },
  {
   "cell_type": "markdown",
   "metadata": {
    "id": "1CMJdXc3Xd3w"
   },
   "source": [
    "#### 2.1 What is the Target Variable? Why?"
   ]
  },
  {
   "cell_type": "code",
   "execution_count": null,
   "metadata": {},
   "outputs": [],
   "source": [
    "#Price wil be the target variable, as we are trying to predict price."
   ]
  },
  {
   "cell_type": "markdown",
   "metadata": {
    "id": "7qy-ZmGEXd3z"
   },
   "source": [
    "#### 2.2 List all possible variables which might be Predictor variable."
   ]
  },
  {
   "cell_type": "code",
   "execution_count": null,
   "metadata": {
    "id": "nfAq28P_Xd30"
   },
   "outputs": [],
   "source": [
    "# ANSWER, \n",
    "beds, bath, sq_ft"
   ]
  },
  {
   "cell_type": "markdown",
   "metadata": {
    "id": "yFZkIpXhXd32"
   },
   "source": [
    "#### 2.3 Find correlation between variables\n",
    "\n",
    "Find correlation between variables. Which is the best predictor? Why? State your reason."
   ]
  },
  {
   "cell_type": "code",
   "execution_count": 6,
   "metadata": {
    "id": "Nc8FHVnjXd32"
   },
   "outputs": [
    {
     "data": {
      "text/html": [
       "<div>\n",
       "<style scoped>\n",
       "    .dataframe tbody tr th:only-of-type {\n",
       "        vertical-align: middle;\n",
       "    }\n",
       "\n",
       "    .dataframe tbody tr th {\n",
       "        vertical-align: top;\n",
       "    }\n",
       "\n",
       "    .dataframe thead th {\n",
       "        text-align: right;\n",
       "    }\n",
       "</style>\n",
       "<table border=\"1\" class=\"dataframe\">\n",
       "  <thead>\n",
       "    <tr style=\"text-align: right;\">\n",
       "      <th></th>\n",
       "      <th>zip</th>\n",
       "      <th>beds</th>\n",
       "      <th>baths</th>\n",
       "      <th>sq__ft</th>\n",
       "      <th>price</th>\n",
       "      <th>latitude</th>\n",
       "      <th>longitude</th>\n",
       "    </tr>\n",
       "  </thead>\n",
       "  <tbody>\n",
       "    <tr>\n",
       "      <th>zip</th>\n",
       "      <td>1.000000</td>\n",
       "      <td>0.125319</td>\n",
       "      <td>0.069165</td>\n",
       "      <td>0.130108</td>\n",
       "      <td>-0.093353</td>\n",
       "      <td>-0.290389</td>\n",
       "      <td>-0.539904</td>\n",
       "    </tr>\n",
       "    <tr>\n",
       "      <th>beds</th>\n",
       "      <td>0.125319</td>\n",
       "      <td>1.000000</td>\n",
       "      <td>0.839650</td>\n",
       "      <td>0.684041</td>\n",
       "      <td>0.342024</td>\n",
       "      <td>-0.291307</td>\n",
       "      <td>-0.053993</td>\n",
       "    </tr>\n",
       "    <tr>\n",
       "      <th>baths</th>\n",
       "      <td>0.069165</td>\n",
       "      <td>0.839650</td>\n",
       "      <td>1.000000</td>\n",
       "      <td>0.665690</td>\n",
       "      <td>0.416208</td>\n",
       "      <td>-0.235792</td>\n",
       "      <td>0.016582</td>\n",
       "    </tr>\n",
       "    <tr>\n",
       "      <th>sq__ft</th>\n",
       "      <td>0.130108</td>\n",
       "      <td>0.684041</td>\n",
       "      <td>0.665690</td>\n",
       "      <td>1.000000</td>\n",
       "      <td>0.333897</td>\n",
       "      <td>-0.383274</td>\n",
       "      <td>-0.177742</td>\n",
       "    </tr>\n",
       "    <tr>\n",
       "      <th>price</th>\n",
       "      <td>-0.093353</td>\n",
       "      <td>0.342024</td>\n",
       "      <td>0.416208</td>\n",
       "      <td>0.333897</td>\n",
       "      <td>1.000000</td>\n",
       "      <td>-0.039573</td>\n",
       "      <td>0.284485</td>\n",
       "    </tr>\n",
       "    <tr>\n",
       "      <th>latitude</th>\n",
       "      <td>-0.290389</td>\n",
       "      <td>-0.291307</td>\n",
       "      <td>-0.235792</td>\n",
       "      <td>-0.383274</td>\n",
       "      <td>-0.039573</td>\n",
       "      <td>1.000000</td>\n",
       "      <td>0.387925</td>\n",
       "    </tr>\n",
       "    <tr>\n",
       "      <th>longitude</th>\n",
       "      <td>-0.539904</td>\n",
       "      <td>-0.053993</td>\n",
       "      <td>0.016582</td>\n",
       "      <td>-0.177742</td>\n",
       "      <td>0.284485</td>\n",
       "      <td>0.387925</td>\n",
       "      <td>1.000000</td>\n",
       "    </tr>\n",
       "  </tbody>\n",
       "</table>\n",
       "</div>"
      ],
      "text/plain": [
       "                zip      beds     baths    sq__ft     price  latitude  \\\n",
       "zip        1.000000  0.125319  0.069165  0.130108 -0.093353 -0.290389   \n",
       "beds       0.125319  1.000000  0.839650  0.684041  0.342024 -0.291307   \n",
       "baths      0.069165  0.839650  1.000000  0.665690  0.416208 -0.235792   \n",
       "sq__ft     0.130108  0.684041  0.665690  1.000000  0.333897 -0.383274   \n",
       "price     -0.093353  0.342024  0.416208  0.333897  1.000000 -0.039573   \n",
       "latitude  -0.290389 -0.291307 -0.235792 -0.383274 -0.039573  1.000000   \n",
       "longitude -0.539904 -0.053993  0.016582 -0.177742  0.284485  0.387925   \n",
       "\n",
       "           longitude  \n",
       "zip        -0.539904  \n",
       "beds       -0.053993  \n",
       "baths       0.016582  \n",
       "sq__ft     -0.177742  \n",
       "price       0.284485  \n",
       "latitude    0.387925  \n",
       "longitude   1.000000  "
      ]
     },
     "execution_count": 6,
     "metadata": {},
     "output_type": "execute_result"
    }
   ],
   "source": [
    "# ANSWER\n",
    "house_csv.corr()\n",
    "Possibly the number of baths, the correlation between price and baths has a posivitive correlation at 0.416."
   ]
  },
  {
   "cell_type": "markdown",
   "metadata": {
    "id": "1vop_P66Xd35"
   },
   "source": [
    "#### 2.4 What is the simplest way to predict price\n",
    "\n",
    "So we have information for 985 houses. What is the easiest way to predict price of a house?"
   ]
  },
  {
   "cell_type": "code",
   "execution_count": null,
   "metadata": {
    "id": "p0xBzE9iXd35"
   },
   "outputs": [],
   "source": [
    "# ANSWER\n",
    "# using regression method/find the best fit line"
   ]
  },
  {
   "cell_type": "markdown",
   "metadata": {
    "id": "8uRWVPNuXd38"
   },
   "source": [
    "#### 2.5 Find Resudals\n",
    "\n",
    "Find difference between actual value and predicted value. Use absolute value."
   ]
  },
  {
   "cell_type": "code",
   "execution_count": null,
   "metadata": {
    "id": "PBzfNQsGXd39"
   },
   "outputs": [],
   "source": [
    "# ANSWER"
   ]
  },
  {
   "cell_type": "markdown",
   "metadata": {
    "id": "5P61MoAsXd4B"
   },
   "source": [
    "#### 2.6  Predict Using Linear Regression\n",
    "\n",
    "[Simple Linear Regression](https://en.wikipedia.org/wiki/Simple_linear_regression#Fitting_the_regression_line)\n",
    "\n",
    "### $$\\hat{y} = \\beta_0 + \\beta_1 x$$\n",
    "\n",
    "> ### $$ \\beta_1 = \\frac{\\sum_{i=1}^n (y_i - \\bar{y} ) (x_i - \\bar{x} )}{\\sum_{i=1}^n (x_i - \\bar{x})^2} $$\n",
    "\n",
    "and\n",
    "\n",
    "> ### $$ \\beta_0 = \\bar{y} - \\beta_1\\bar{x} $$\n",
    "\n",
    "Given variables:\n",
    "- $\\bar{y}$ : the sample mean of observed values $Y$\n",
    "- $\\bar{x}$ : the sample mean of observed values $X$"
   ]
  },
  {
   "cell_type": "markdown",
   "metadata": {
    "id": "drP_xuAKXd4C"
   },
   "source": [
    "##### 2.7 Define X, Y\n",
    "\n",
    "- X = Predictor Variable \n",
    "- Y = Target Variable"
   ]
  },
  {
   "cell_type": "code",
   "execution_count": 12,
   "metadata": {
    "id": "yPWPQp3VXd4D"
   },
   "outputs": [],
   "source": [
    "# ANSWER\n",
    "X = house_csv['sq__ft']\n",
    "Y = house_csv['price']"
   ]
  },
  {
   "cell_type": "markdown",
   "metadata": {
    "id": "JkV3m-EqXd4F"
   },
   "source": [
    "##### 2.7.A Calculate beta_1\n",
    "\n",
    " ### $$ \\beta_1 = \\frac{\\sum_{i=1}^n (y_i - \\bar{y} ) (x_i - \\bar{x} )}{\\sum_{i=1}^n (x_i - \\bar{x})^2} $$"
   ]
  },
  {
   "cell_type": "code",
   "execution_count": 14,
   "metadata": {
    "id": "lcI1IAmXXd4G"
   },
   "outputs": [],
   "source": [
    "# ANSWER\n",
    "numerator = np.sum((X - np.mean(X)) * (Y- np.mean(Y)))\n",
    "denominator = np.sum((X - np.mean(X)) ** 2)\n",
    "b1 = numerator/denominator"
   ]
  },
  {
   "cell_type": "code",
   "execution_count": 32,
   "metadata": {},
   "outputs": [
    {
     "data": {
      "text/plain": [
       "54.158639688530755"
      ]
     },
     "execution_count": 32,
     "metadata": {},
     "output_type": "execute_result"
    }
   ],
   "source": [
    "b1"
   ]
  },
  {
   "cell_type": "markdown",
   "metadata": {
    "id": "MoA9ez44Xd4I"
   },
   "source": [
    "##### 2.7.B Calculate beta_0"
   ]
  },
  {
   "cell_type": "markdown",
   "metadata": {
    "id": "V7fug5lMXd4K"
   },
   "source": [
    "### $$ \\beta_0 = \\bar{y} - \\beta_1\\bar{x} $$"
   ]
  },
  {
   "cell_type": "code",
   "execution_count": 15,
   "metadata": {
    "id": "bcu8ZhFLXd4L"
   },
   "outputs": [],
   "source": [
    "# ANSWER\n",
    "b0 = np.mean(Y) - (b1*np.mean(X))"
   ]
  },
  {
   "cell_type": "code",
   "execution_count": 33,
   "metadata": {},
   "outputs": [
    {
     "data": {
      "text/plain": [
       "162930.16140699777"
      ]
     },
     "execution_count": 33,
     "metadata": {},
     "output_type": "execute_result"
    }
   ],
   "source": [
    "b0"
   ]
  },
  {
   "cell_type": "markdown",
   "metadata": {
    "id": "Z9EUGv1KXd4N"
   },
   "source": [
    "##### 2.7.C Find Yhat (Predicted Value Using Beta 0 and Beta 1)"
   ]
  },
  {
   "cell_type": "markdown",
   "metadata": {
    "id": "gSRcDL57Xd4O"
   },
   "source": [
    "### $$\\hat{y} = \\beta_0 + \\beta_1 x$$"
   ]
  },
  {
   "cell_type": "code",
   "execution_count": 17,
   "metadata": {
    "id": "lGkoNedwXd4P"
   },
   "outputs": [],
   "source": [
    "# ANSWER\n",
    "Y1 = b0 + b1*X"
   ]
  },
  {
   "cell_type": "markdown",
   "metadata": {
    "id": "h1D-rddfXd4R"
   },
   "source": [
    "##### 2.7.D Find Residuals"
   ]
  },
  {
   "cell_type": "markdown",
   "metadata": {
    "id": "2cha8XAQXd4S"
   },
   "source": [
    "### $$ \\text{residual}_i = y_i - \\hat{y}_i$$"
   ]
  },
  {
   "cell_type": "code",
   "execution_count": 21,
   "metadata": {
    "id": "dLZgRjbGXd4S"
   },
   "outputs": [],
   "source": [
    "# ANSWER\n",
    "residual = Y - Y1"
   ]
  },
  {
   "cell_type": "markdown",
   "metadata": {
    "id": "bpXEda_uXd4U"
   },
   "source": [
    "##### 2.7.E Find R-Square\n",
    "\n",
    "The coefficient $R^2$ is defined as $$ R^2 = 1 - \\frac{SS_{res}}{SS_{tot}} $$, where $$ SS_{res} $$ is the residual sum of squares $$ SS_{res} = \\sum_{i=1}^n \\left(y_i - \\hat{y}_i\\right)^2 $$ and $$ SS_{res} $$ is the total sum of squares $$ SS_{tot} = \\sum_{i=1}^n \\left(y_i - \\bar{y}\\right)^2 $$\n",
    "\n",
    "The best possible score is 1.0 and it can be negative (because the model can be arbitrarily worse).\n",
    "\n",
    "**Write a function to calculate R- Square value.**"
   ]
  },
  {
   "cell_type": "markdown",
   "metadata": {
    "id": "1RamI9LTXd4V"
   },
   "source": [
    "The total sum of squares:\n",
    "\n",
    "### $$ SS_{tot} = \\sum_{i=1}^n \\left(y_i - \\bar{y}\\right)^2 $$\n",
    "\n",
    "The residual sum of squares:\n",
    "\n",
    "### $$ SS_{res} = \\sum_{i=1}^n \\left(y_i - \\hat{y}_i\\right)^2 $$\n",
    "\n",
    "$R^2$:\n",
    "\n",
    "### $$ R^2 = 1 - \\frac{SS_{res}}{SS_{tot}} $$"
   ]
  },
  {
   "cell_type": "code",
   "execution_count": 24,
   "metadata": {
    "id": "vmxloC2RXd4W"
   },
   "outputs": [],
   "source": [
    "# ANSWER\n",
    "#1-(np.sum(residual**2))/(np.sum((Y- np.mean(Y))**2))\n",
    "def r_square(data, P_data):\n",
    "    div = (np.sum(((data-P_data)**2)))/(np.sum((data- np.mean(data))**2))\n",
    "    return 1-div"
   ]
  },
  {
   "cell_type": "code",
   "execution_count": 25,
   "metadata": {},
   "outputs": [
    {
     "data": {
      "text/plain": [
       "0.11148717682951459"
      ]
     },
     "execution_count": 25,
     "metadata": {},
     "output_type": "execute_result"
    }
   ],
   "source": [
    "r_square(Y,Y1)"
   ]
  },
  {
   "cell_type": "markdown",
   "metadata": {
    "id": "7xV-CEKcXd4a"
   },
   "source": [
    "##### 2.7.F [BONUS] Draw Plot of Predicted Line"
   ]
  },
  {
   "cell_type": "code",
   "execution_count": 31,
   "metadata": {
    "id": "P4JKmHWSXd4a"
   },
   "outputs": [
    {
     "data": {
      "image/png": "[encoded data removed]",
      "text/plain": [
       "<Figure size 864x432 with 1 Axes>"
      ]
     },
     "metadata": {
      "needs_background": "light"
     },
     "output_type": "display_data"
    }
   ],
   "source": [
    "# ANSWER\n",
    "import matplotlib.pyplot as plt\n",
    "plt.figure(figsize=(12, 6))\n",
    "plt.plot(X, Y1, color='red')     # regression line\n",
    "plt.plot(X, Y, 'o', color='blue')   # scatter plot showing actual data\n",
    "plt.title('Actual vs Predicted')\n",
    "plt.xlabel('X')\n",
    "plt.ylabel('y')\n",
    "plt.show()"
   ]
  },
  {
   "cell_type": "markdown",
   "metadata": {
    "id": "oE45Z1qaXd4f"
   },
   "source": [
    "##### 2.7.G [BONUS] Draw Plot of Predicted Line With Resudals"
   ]
  },
  {
   "cell_type": "code",
   "execution_count": 38,
   "metadata": {
    "id": "yBLDh6cAXd4g"
   },
   "outputs": [
    {
     "data": {
      "image/png": "[encoded data removed]",
      "text/plain": [
       "<Figure size 864x432 with 1 Axes>"
      ]
     },
     "metadata": {
      "needs_background": "light"
     },
     "output_type": "display_data"
    }
   ],
   "source": [
    "# ANSWER\n",
    "plt.figure(figsize=(12, 6))\n",
    "plt.plot(X, Y1, color='red')     # predicted line\n",
    "plt.plot(X, residual, 'o', color = 'grey')\n",
    "plt.title('Predicted Line With Residuals')\n",
    "plt.xlabel('X')\n",
    "plt.ylabel('y')\n",
    "plt.show()"
   ]
  },
  {
   "cell_type": "markdown",
   "metadata": {
    "id": "NTjW6xxFXd4i"
   },
   "source": [
    "### 3. Predict House Price\n",
    "\n",
    "Let's assume we have information of following house:\n",
    "\n",
    "- street:\t1140 EDMONTON DR\n",
    "- city:\tSACRAMENTO\n",
    "- zip:\t95833\n",
    "- state:\tCA\n",
    "- beds:\t3\n",
    "- baths:\t2\n",
    "- sq__ft:\t1204\n",
    "- type:\tResidential\n",
    "\n",
    "**Predict the price of this house.**"
   ]
  },
  {
   "cell_type": "code",
   "execution_count": 39,
   "metadata": {
    "id": "mz5Lx5jGXd4j"
   },
   "outputs": [
    {
     "data": {
      "text/plain": [
       "228137.1635919888"
      ]
     },
     "execution_count": 39,
     "metadata": {},
     "output_type": "execute_result"
    }
   ],
   "source": [
    "# ANSWER\n",
    "predicted_price = b0 + b1*1204\n",
    "predicted_price"
   ]
  },
  {
   "cell_type": "markdown",
   "metadata": {
    "id": "W0FUjKlcl-NJ"
   },
   "source": [
    "\n",
    "\n",
    "---\n",
    "\n",
    "\n",
    "\n",
    "---\n",
    "\n",
    "\n",
    "\n",
    "> > > > > > > > > © 2021 Institute of Data\n",
    "\n",
    "\n",
    "---\n",
    "\n",
    "\n",
    "\n",
    "---\n",
    "\n",
    "\n",
    "\n"
   ]
  }
 ],
 "metadata": {
  "colab": {
   "collapsed_sections": [],
   "name": "IOD_Lab 4.1.1.ipynb",
   "provenance": []
  },
  "kernelspec": {
   "display_name": "Python 3",
   "language": "python",
   "name": "python3"
  },
  "language_info": {
   "codemirror_mode": {
    "name": "ipython",
    "version": 3
   },
   "file_extension": ".py",
   "mimetype": "text/x-python",
   "name": "python",
   "nbconvert_exporter": "python",
   "pygments_lexer": "ipython3",
   "version": "3.8.5"
  }
 },
 "nbformat": 4,
 "nbformat_minor": 1
}
